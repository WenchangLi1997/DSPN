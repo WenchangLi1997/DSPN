{
 "cells": [
  {
   "cell_type": "markdown",
   "metadata": {},
   "source": [
    "### ASAP"
   ]
  },
  {
   "cell_type": "code",
   "execution_count": 1,
   "metadata": {
    "ExecuteTime": {
     "end_time": "2023-06-03T14:27:36.739329Z",
     "start_time": "2023-06-03T14:27:31.648509Z"
    }
   },
   "outputs": [],
   "source": [
    "import pandas as pd\n",
    "import jieba\n",
    "import re\n",
    "from tqdm import tqdm\n",
    "import gensim\n",
    "import codecs\n",
    "import zhconv"
   ]
  },
  {
   "cell_type": "code",
   "execution_count": 7,
   "metadata": {
    "ExecuteTime": {
     "end_time": "2023-06-03T14:48:39.481501Z",
     "start_time": "2023-06-03T14:48:38.365486Z"
    }
   },
   "outputs": [
    {
     "data": {
      "text/plain": [
       "1.0     1219\n",
       "2.0     1258\n",
       "3.0     5241\n",
       "4.0    13362\n",
       "5.0    15770\n",
       "Name: star, dtype: int64"
      ]
     },
     "execution_count": 7,
     "metadata": {},
     "output_type": "execute_result"
    }
   ],
   "source": [
    "train_df = pd.read_csv(r\"../data/raw/ASAP/train.csv\")\n",
    "dev_df = pd.read_csv(r\"../data/raw/ASAP/dev.csv\")\n",
    "test_df = pd.read_csv(r\"../data/raw/ASAP/test.csv\")\n",
    "\n",
    "train_df['star'].value_counts().sort_index()"
   ]
  },
  {
   "cell_type": "code",
   "execution_count": 8,
   "metadata": {
    "ExecuteTime": {
     "end_time": "2023-06-03T14:48:44.902279Z",
     "start_time": "2023-06-03T14:48:44.862208Z"
    }
   },
   "outputs": [
    {
     "data": {
      "text/plain": [
       "2    29132\n",
       "1     5241\n",
       "0     2477\n",
       "Name: sentiment, dtype: int64"
      ]
     },
     "execution_count": 8,
     "metadata": {},
     "output_type": "execute_result"
    }
   ],
   "source": [
    "# Convert 5-star to three polarities\n",
    "def f(x):\n",
    "    if x < 3.:\n",
    "        return 0\n",
    "    elif x > 3.:\n",
    "        return 2\n",
    "    else:\n",
    "        return 1\n",
    "\n",
    "train_df['sentiment'] = train_df['star'].apply(lambda x:f(x))\n",
    "dev_df['sentiment'] = dev_df['star'].apply(lambda x:f(x))\n",
    "test_df['sentiment'] = test_df['star'].apply(lambda x:f(x))\n",
    "\n",
    "train_df['sentiment'].value_counts()"
   ]
  },
  {
   "cell_type": "markdown",
   "metadata": {},
   "source": [
    "Convert coarse to fine aspects and polarities"
   ]
  },
  {
   "cell_type": "code",
   "execution_count": 11,
   "metadata": {
    "ExecuteTime": {
     "end_time": "2023-06-03T14:54:22.368694Z",
     "start_time": "2023-06-03T14:54:22.354628Z"
    }
   },
   "outputs": [],
   "source": [
    "def process_df(df):\n",
    "    def coarse_2_fine(lst):\n",
    "        # 将该lst内的细粒度的sentiment变为粗粒度的\n",
    "        lst = list(set([i for i in lst if i!=-2]))\n",
    "        if len(lst) == 0:\n",
    "            return -2\n",
    "        elif len(lst) == 1:\n",
    "            return lst[0]\n",
    "        else: # 此时len(lst)只可能为2or3\n",
    "            lst = list(set([i for i in lst if i!=0])) # 排除掉0\n",
    "            if len(lst) == 1:\n",
    "                return lst[0]\n",
    "            else:\n",
    "                return 0\n",
    "    data = []\n",
    "    for i in df.values:\n",
    "        item = i[3:21]\n",
    "        Location = item[:3]\n",
    "        Service = item[3:7]\n",
    "        Price = item[7:10]\n",
    "        Ambience = item[10:14]\n",
    "        Food = item[14:18]\n",
    "        res = [coarse_2_fine(i) for i in [Location, Service, Price, Ambience, Food]]\n",
    "\n",
    "        data.append(res)\n",
    "    \n",
    "    sup = pd.DataFrame(data)\n",
    "    sup.columns = ['Location', 'Service', 'Price', 'Ambience', 'Food']\n",
    "    \n",
    "    sup = sup + 1\n",
    "    \n",
    "    return sup"
   ]
  },
  {
   "cell_type": "code",
   "execution_count": 12,
   "metadata": {
    "ExecuteTime": {
     "end_time": "2023-06-03T14:54:23.816631Z",
     "start_time": "2023-06-03T14:54:23.350254Z"
    }
   },
   "outputs": [],
   "source": [
    "train_df = pd.concat([train_df, process_df(train_df)], axis=1)\n",
    "dev_df = pd.concat([dev_df, process_df(dev_df)], axis=1)\n",
    "test_df = pd.concat([test_df, process_df(test_df)], axis=1)"
   ]
  },
  {
   "cell_type": "code",
   "execution_count": 15,
   "metadata": {
    "ExecuteTime": {
     "end_time": "2023-06-03T14:54:53.285563Z",
     "start_time": "2023-06-03T14:54:52.359307Z"
    }
   },
   "outputs": [],
   "source": [
    "train_df.to_csv(r\"../data/processed/ASAP_train.csv\", index=False)\n",
    "dev_df.to_csv(r\"../data/processed/ASAP_dev.csv\", index=False)\n",
    "test_df.to_csv(r\"../data/processed/ASAP_test.csv\", index=False)"
   ]
  },
  {
   "cell_type": "code",
   "execution_count": 16,
   "metadata": {
    "ExecuteTime": {
     "end_time": "2023-06-03T14:55:10.704194Z",
     "start_time": "2023-06-03T14:55:10.692202Z"
    }
   },
   "outputs": [],
   "source": [
    "train_df.head(100).to_csv(r\"../data/processed/ASAP_sample.csv\", index=False)"
   ]
  },
  {
   "cell_type": "code",
   "execution_count": null,
   "metadata": {},
   "outputs": [],
   "source": []
  },
  {
   "cell_type": "markdown",
   "metadata": {},
   "source": [
    "### TripDMS"
   ]
  },
  {
   "cell_type": "code",
   "execution_count": 2,
   "metadata": {
    "ExecuteTime": {
     "end_time": "2023-06-03T14:27:36.754219Z",
     "start_time": "2023-06-03T14:27:36.739329Z"
    }
   },
   "outputs": [],
   "source": [
    "import re\n",
    "import pandas as pd\n",
    "import tqdm\n",
    "import nltk\n",
    "from nltk.corpus import stopwords\n",
    "from nltk.sentiment.vader import SentimentIntensityAnalyzer"
   ]
  },
  {
   "cell_type": "code",
   "execution_count": 3,
   "metadata": {
    "ExecuteTime": {
     "end_time": "2023-06-03T14:27:42.582181Z",
     "start_time": "2023-06-03T14:27:41.841708Z"
    }
   },
   "outputs": [
    {
     "data": {
      "text/plain": [
       "((23515, 9), (2939, 9), (2939, 9))"
      ]
     },
     "execution_count": 3,
     "metadata": {},
     "output_type": "execute_result"
    }
   ],
   "source": [
    "def f(filename):\n",
    "    with open(r\"../data/raw/TripDMS/\" + filename, 'r') as f:\n",
    "        text = [i.strip('\\n') for i in f.readlines()]\n",
    "    \n",
    "    data = []\n",
    "    for i in text:\n",
    "        values = i.split('\\t')[0].split(\" \")\n",
    "        values = [int(i) for i in values]\n",
    "        review = i.split('\\t')[2].replace('<ssssss>', '')\n",
    "        values.append(review)\n",
    "        data.append(values)\n",
    "    \n",
    "    df = pd.DataFrame(data)\n",
    "    df.columns = ['Overall', 'value', 'room', 'location', 'cleanliness', 'checkin', 'service', 'business', 'review']\n",
    "    \n",
    "    return df\n",
    "\n",
    "\n",
    "train_df = f('train') \n",
    "dev_df = f('dev')\n",
    "test_df = f('test')\n",
    "train_df.shape, dev_df.shape, test_df.shape"
   ]
  },
  {
   "cell_type": "code",
   "execution_count": 4,
   "metadata": {
    "ExecuteTime": {
     "end_time": "2023-06-03T14:28:39.142930Z",
     "start_time": "2023-06-03T14:28:39.051077Z"
    }
   },
   "outputs": [],
   "source": [
    "# 5-star to three sentiment polarities\n",
    "def f_overall(x):\n",
    "    if x == -1:\n",
    "        return -1\n",
    "    elif x < 3.:\n",
    "        return 0\n",
    "    elif x > 3.:\n",
    "        return 2\n",
    "    else:\n",
    "        return 1\n",
    "\n",
    "def f(x):\n",
    "    if x == -1:\n",
    "        return -1\n",
    "    elif x < 3.:\n",
    "        return 0\n",
    "    elif x > 3.:\n",
    "        return 2\n",
    "    else:\n",
    "        return 1    \n",
    "    \n",
    "c = 'Overall'\n",
    "train_df[c] = train_df[c].apply(f_overall)\n",
    "dev_df[c] = dev_df[c].apply(f_overall)\n",
    "test_df[c] = test_df[c].apply(f_overall)\n",
    "    \n",
    "\n",
    "for o in ['value', 'room', 'location', 'cleanliness', 'checkin', 'service', 'business']:\n",
    "    train_df[o] = train_df[o].apply(f)\n",
    "    dev_df[o] = dev_df[o].apply(f)\n",
    "    test_df[o] = test_df[o].apply(f)"
   ]
  },
  {
   "cell_type": "code",
   "execution_count": 5,
   "metadata": {
    "ExecuteTime": {
     "end_time": "2023-06-03T14:28:44.616437Z",
     "start_time": "2023-06-03T14:28:43.777656Z"
    }
   },
   "outputs": [],
   "source": [
    "train_df.to_csv(r\"../data/processed/TripDMS_train.csv\", index=False)\n",
    "dev_df.to_csv(r\"../data/processed/TripDMS_dev.csv\", index=False)\n",
    "test_df.to_csv(r\"../data/processed/TripDMS_test.csv\", index=False)"
   ]
  },
  {
   "cell_type": "code",
   "execution_count": 6,
   "metadata": {
    "ExecuteTime": {
     "end_time": "2023-06-03T14:28:46.506791Z",
     "start_time": "2023-06-03T14:28:46.491220Z"
    }
   },
   "outputs": [],
   "source": [
    "train_df.head(100).to_csv(r\"../data/processed/TripDMS_sample.csv\", index=False)"
   ]
  },
  {
   "cell_type": "code",
   "execution_count": null,
   "metadata": {},
   "outputs": [],
   "source": []
  },
  {
   "cell_type": "markdown",
   "metadata": {},
   "source": [
    "### Generate data for supervised ACSA models"
   ]
  },
  {
   "cell_type": "code",
   "execution_count": 1,
   "metadata": {
    "ExecuteTime": {
     "end_time": "2023-01-11T05:47:11.356177Z",
     "start_time": "2023-01-11T05:47:11.013810Z"
    }
   },
   "outputs": [],
   "source": [
    "import pandas as pd"
   ]
  },
  {
   "cell_type": "code",
   "execution_count": 3,
   "metadata": {
    "ExecuteTime": {
     "end_time": "2023-01-11T05:47:30.887066Z",
     "start_time": "2023-01-11T05:47:27.077197Z"
    }
   },
   "outputs": [],
   "source": [
    "train_df = pd.read_excel(r\"../data/processed/TripDMS_train.xlsx\")\n",
    "dev_df = pd.read_excel(r\"../data/processed/TripDMS_dev.xlsx\")\n",
    "test_df = pd.read_excel(r\"../data/processed/TripDMS_test.xlsx\")"
   ]
  },
  {
   "cell_type": "code",
   "execution_count": 4,
   "metadata": {
    "ExecuteTime": {
     "end_time": "2023-01-11T05:47:32.656187Z",
     "start_time": "2023-01-11T05:47:32.648186Z"
    }
   },
   "outputs": [],
   "source": [
    "def f(df):\n",
    "    data = []\n",
    "    for index, row in df.iterrows():\n",
    "        aspects = [row['value'], row['room'], row['location'], row['clean'], row['check in'], row['service'], row['business']]\n",
    "        for i in range(7):\n",
    "            if aspects[i] != -2:\n",
    "                v = aspects[i] + 2\n",
    "            else:\n",
    "                v = 0\n",
    "            data.append([row['review'], row['process_review'], i, v])\n",
    "    \n",
    "    new_df = pd.DataFrame(data)\n",
    "    new_df.columns = ['review', 'process_review', 'asp', 'asp_senti']\n",
    "    \n",
    "    return new_df"
   ]
  },
  {
   "cell_type": "code",
   "execution_count": 6,
   "metadata": {
    "ExecuteTime": {
     "end_time": "2022-05-14T06:12:17.795580Z",
     "start_time": "2022-05-14T06:12:13.357604Z"
    }
   },
   "outputs": [],
   "source": [
    "new_train_df = f(train_df)\n",
    "new_dev_df = f(dev_df)\n",
    "new_test_df = f(test_df)"
   ]
  },
  {
   "cell_type": "code",
   "execution_count": 10,
   "metadata": {
    "ExecuteTime": {
     "end_time": "2022-05-14T06:14:32.752233Z",
     "start_time": "2022-05-14T06:14:32.709207Z"
    }
   },
   "outputs": [
    {
     "data": {
      "text/plain": [
       "(178137, 5)"
      ]
     },
     "execution_count": 10,
     "metadata": {},
     "output_type": "execute_result"
    }
   ],
   "source": [
    "# ACSA don't need 0\n",
    "new2_df = new_df[new_df['asp_senti'] != 0]\n",
    "new2_df.shape"
   ]
  },
  {
   "cell_type": "code",
   "execution_count": 13,
   "metadata": {
    "ExecuteTime": {
     "end_time": "2022-05-14T06:14:57.552898Z",
     "start_time": "2022-05-14T06:14:57.542896Z"
    },
    "scrolled": true
   },
   "outputs": [
    {
     "name": "stderr",
     "output_type": "stream",
     "text": [
      "d:\\software\\python3.6\\lib\\site-packages\\ipykernel_launcher.py:1: SettingWithCopyWarning: \n",
      "A value is trying to be set on a copy of a slice from a DataFrame.\n",
      "Try using .loc[row_indexer,col_indexer] = value instead\n",
      "\n",
      "See the caveats in the documentation: https://pandas.pydata.org/pandas-docs/stable/user_guide/indexing.html#returning-a-view-versus-a-copy\n",
      "  \"\"\"Entry point for launching an IPython kernel.\n"
     ]
    }
   ],
   "source": [
    "new2_df['asp_senti'] = new2_df['asp_senti'] - 1"
   ]
  },
  {
   "cell_type": "code",
   "execution_count": 15,
   "metadata": {
    "ExecuteTime": {
     "end_time": "2022-05-14T06:15:04.435306Z",
     "start_time": "2022-05-14T06:15:04.417285Z"
    }
   },
   "outputs": [
    {
     "data": {
      "text/plain": [
       "2    81160\n",
       "0    54177\n",
       "1    42800\n",
       "Name: asp_senti, dtype: int64"
      ]
     },
     "execution_count": 15,
     "metadata": {},
     "output_type": "execute_result"
    }
   ],
   "source": [
    "new2_df['asp_senti'].value_counts()"
   ]
  },
  {
   "cell_type": "code",
   "execution_count": 17,
   "metadata": {
    "ExecuteTime": {
     "end_time": "2022-05-14T06:15:44.352265Z",
     "start_time": "2022-05-14T06:15:36.872099Z"
    }
   },
   "outputs": [],
   "source": [
    "new2_df.to_csv(r\"./data/processed/TripDMS_for_super.csv\", index=False)"
   ]
  },
  {
   "cell_type": "code",
   "execution_count": null,
   "metadata": {},
   "outputs": [],
   "source": []
  },
  {
   "cell_type": "markdown",
   "metadata": {},
   "source": [
    "### Sample data for low-resource scenario"
   ]
  },
  {
   "cell_type": "code",
   "execution_count": 1,
   "metadata": {
    "ExecuteTime": {
     "end_time": "2023-01-11T06:26:35.870585Z",
     "start_time": "2023-01-11T06:26:35.537028Z"
    }
   },
   "outputs": [],
   "source": [
    "import pandas as pd"
   ]
  },
  {
   "cell_type": "markdown",
   "metadata": {},
   "source": [
    "ASAP"
   ]
  },
  {
   "cell_type": "code",
   "execution_count": 11,
   "metadata": {
    "ExecuteTime": {
     "end_time": "2023-01-11T06:27:54.964332Z",
     "start_time": "2023-01-11T06:27:54.251050Z"
    }
   },
   "outputs": [],
   "source": [
    "asap_train = pd.read_csv(r\"../data/processed/ASAP_train.csv\")\n",
    "asap_train_sample = asap_train.sample(frac=0.2)"
   ]
  },
  {
   "cell_type": "code",
   "execution_count": 12,
   "metadata": {
    "ExecuteTime": {
     "end_time": "2023-01-11T06:27:54.973622Z",
     "start_time": "2023-01-11T06:27:54.964332Z"
    }
   },
   "outputs": [],
   "source": [
    "def f(df):\n",
    "    data = []\n",
    "    for index, row in df.iterrows():\n",
    "        aspects = [row['Location'], row['Service'], row['Price'], row['Ambience'], row['Food']]\n",
    "        for i in range(5):\n",
    "            if aspects[i] != -2:\n",
    "                v = aspects[i] + 1\n",
    "            else:\n",
    "                v = -1\n",
    "            data.append([row['process_review'], i, v])\n",
    "    \n",
    "    new_df = pd.DataFrame(data)\n",
    "    new_df.columns = ['process_review', 'asp', 'asp_senti']\n",
    "    \n",
    "    return new_df"
   ]
  },
  {
   "cell_type": "code",
   "execution_count": 13,
   "metadata": {
    "ExecuteTime": {
     "end_time": "2023-01-11T06:27:56.559136Z",
     "start_time": "2023-01-11T06:27:55.901076Z"
    }
   },
   "outputs": [],
   "source": [
    "asap_super_train_sample = f(asap_train_sample)"
   ]
  },
  {
   "cell_type": "code",
   "execution_count": 14,
   "metadata": {
    "ExecuteTime": {
     "end_time": "2023-01-11T06:27:59.605912Z",
     "start_time": "2023-01-11T06:27:59.597916Z"
    }
   },
   "outputs": [
    {
     "data": {
      "text/plain": [
       "(24273, 3)"
      ]
     },
     "execution_count": 14,
     "metadata": {},
     "output_type": "execute_result"
    }
   ],
   "source": [
    "asap_super_train_sample = asap_super_train_sample[asap_super_train_sample['asp_senti'] != -1]\n",
    "asap_super_train_sample.shape"
   ]
  },
  {
   "cell_type": "code",
   "execution_count": 17,
   "metadata": {
    "ExecuteTime": {
     "end_time": "2023-01-11T06:28:23.497171Z",
     "start_time": "2023-01-11T06:28:22.657881Z"
    }
   },
   "outputs": [],
   "source": [
    "asap_train_sample.to_csv(r\"../data/processed/ASAP_train_sample.csv\", index=False)\n",
    "asap_super_train_sample.to_csv(r\"../data/processed/ASAP_super_train_sample.csv\", index=False)"
   ]
  },
  {
   "cell_type": "markdown",
   "metadata": {},
   "source": [
    "TripDMS"
   ]
  },
  {
   "cell_type": "code",
   "execution_count": 18,
   "metadata": {
    "ExecuteTime": {
     "end_time": "2023-01-11T06:28:27.262477Z",
     "start_time": "2023-01-11T06:28:24.520782Z"
    }
   },
   "outputs": [],
   "source": [
    "trip_train = pd.read_excel(r\"../data/processed/TripDMS_train.xlsx\")\n",
    "trip_train_sample = trip_train.sample(frac=1/7)"
   ]
  },
  {
   "cell_type": "code",
   "execution_count": 19,
   "metadata": {
    "ExecuteTime": {
     "end_time": "2023-01-11T06:28:29.792492Z",
     "start_time": "2023-01-11T06:28:29.705918Z"
    }
   },
   "outputs": [],
   "source": [
    "def f(df):\n",
    "    data = []\n",
    "    for index, row in df.iterrows():\n",
    "        aspects = [row['value'], row['room'], row['location'], row['clean'], row['check in'], row['service'], row['business']]\n",
    "        for i in range(7):\n",
    "            if aspects[i] != -2:\n",
    "                v = aspects[i] + 1\n",
    "            else:\n",
    "                v = -1\n",
    "            data.append([row['process_review'], i, v])\n",
    "    \n",
    "    new_df = pd.DataFrame(data)\n",
    "    new_df.columns = ['process_review', 'asp', 'asp_senti']\n",
    "    \n",
    "    return new_df"
   ]
  },
  {
   "cell_type": "code",
   "execution_count": 20,
   "metadata": {
    "ExecuteTime": {
     "end_time": "2023-01-11T06:28:31.965507Z",
     "start_time": "2023-01-11T06:28:31.613190Z"
    }
   },
   "outputs": [],
   "source": [
    "trip_super_train_sample = f(trip_train_sample)"
   ]
  },
  {
   "cell_type": "code",
   "execution_count": 21,
   "metadata": {
    "ExecuteTime": {
     "end_time": "2023-01-11T06:28:33.443806Z",
     "start_time": "2023-01-11T06:28:33.436677Z"
    }
   },
   "outputs": [
    {
     "data": {
      "text/plain": [
       "(20327, 3)"
      ]
     },
     "execution_count": 21,
     "metadata": {},
     "output_type": "execute_result"
    }
   ],
   "source": [
    "trip_super_train_sample = trip_super_train_sample[trip_super_train_sample['asp_senti'] != -1]\n",
    "trip_super_train_sample.shape"
   ]
  },
  {
   "cell_type": "code",
   "execution_count": 23,
   "metadata": {
    "ExecuteTime": {
     "end_time": "2023-01-11T06:28:46.058026Z",
     "start_time": "2023-01-11T06:28:43.998323Z"
    }
   },
   "outputs": [],
   "source": [
    "trip_train_sample.to_excel(r\"../data/processed/TripDMS_train_sample.xlsx\", index=False)\n",
    "trip_super_train_sample.to_excel(r\"../data/processed/TripDMS_super_train_sample.xlsx\", index=False)"
   ]
  },
  {
   "cell_type": "code",
   "execution_count": null,
   "metadata": {},
   "outputs": [],
   "source": []
  }
 ],
 "metadata": {
  "kernelspec": {
   "display_name": "Python 3",
   "language": "python",
   "name": "python3"
  },
  "language_info": {
   "codemirror_mode": {
    "name": "ipython",
    "version": 3
   },
   "file_extension": ".py",
   "mimetype": "text/x-python",
   "name": "python",
   "nbconvert_exporter": "python",
   "pygments_lexer": "ipython3",
   "version": "3.6.8"
  }
 },
 "nbformat": 4,
 "nbformat_minor": 4
}
