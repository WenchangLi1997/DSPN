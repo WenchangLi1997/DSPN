{
 "cells": [
  {
   "cell_type": "code",
   "execution_count": 1,
   "metadata": {},
   "outputs": [],
   "source": [
    "import torch\n",
    "import numpy as np\n",
    "import pandas as pd\n",
    "from preprocess.PreProcess import ASAP_PreProcess, TA_PreProcess, GS_PreProcess\n",
    "from models import E2E_CNN, E2E_LSTM\n",
    "from trainer import End2end_trainer\n",
    "import warnings\n",
    "warnings.filterwarnings(\"ignore\")"
   ]
  },
  {
   "cell_type": "code",
   "execution_count": 2,
   "metadata": {},
   "outputs": [],
   "source": [
    "data_name = 'GS' # or 'ASAP'\n",
    "device = torch.device('cuda' if torch.cuda.is_available() else 'cpu')\n",
    "seed = 1\n",
    "torch.manual_seed(seed)\n",
    "torch.cuda.manual_seed_all(seed)\n",
    "np.random.seed(seed)\n",
    "torch.backends.cudnn.deterministic = True"
   ]
  },
  {
   "cell_type": "code",
   "execution_count": 3,
   "metadata": {},
   "outputs": [
    {
     "name": "stdout",
     "output_type": "stream",
     "text": [
      "N_vocab: 11359 | D_embed: 200 | N_aspects: 20\n"
     ]
    }
   ],
   "source": [
    "if data_name == 'ASAP':\n",
    "    asap = ASAP_PreProcess(end2end=True)\n",
    "    w2v_model, train_set, dev_set, test_set = asap.get_dataset()\n",
    "elif data_name == 'TA':\n",
    "    ta = TA_PreProcess(end2end=True)\n",
    "    w2v_model, train_set, dev_set, test_set = ta.get_dataset()\n",
    "elif data_name == 'GS':\n",
    "    gs = GS_PreProcess(end2end=True)\n",
    "    w2v_model, train_set, dev_set, test_set = gs.get_dataset()"
   ]
  },
  {
   "cell_type": "markdown",
   "metadata": {},
   "source": [
    "### Train"
   ]
  },
  {
   "cell_type": "code",
   "execution_count": 4,
   "metadata": {},
   "outputs": [
    {
     "data": {
      "text/plain": [
       "E2E_LSTM(\n",
       "  (E): Embedding(11359, 200)\n",
       "  (encoder): LSTM(200, 50, dropout=0.5, bidirectional=True)\n",
       "  (fc1): Linear(in_features=200, out_features=4, bias=True)\n",
       "  (fc2): Linear(in_features=200, out_features=4, bias=True)\n",
       "  (fc3): Linear(in_features=200, out_features=4, bias=True)\n",
       "  (fc4): Linear(in_features=200, out_features=4, bias=True)\n",
       "  (fc5): Linear(in_features=200, out_features=4, bias=True)\n",
       "  (fc6): Linear(in_features=200, out_features=4, bias=True)\n",
       "  (fc7): Linear(in_features=200, out_features=4, bias=True)\n",
       "  (dropout): Dropout(p=0.5, inplace=False)\n",
       ")"
      ]
     },
     "execution_count": 4,
     "metadata": {},
     "output_type": "execute_result"
    }
   ],
   "source": [
    "# model = E2E_CNN(w2v_model.E, data_name=data_name).to(device)\n",
    "model = E2E_LSTM(w2v_model.E, data_name=data_name).to(device)\n",
    "model"
   ]
  },
  {
   "cell_type": "markdown",
   "metadata": {},
   "source": [
    "### Train"
   ]
  },
  {
   "cell_type": "code",
   "execution_count": 5,
   "metadata": {},
   "outputs": [],
   "source": [
    "epochs = 20\n",
    "batch_size = 128\n",
    "trainer = End2end_trainer(data_name=data_name)"
   ]
  },
  {
   "cell_type": "code",
   "execution_count": 6,
   "metadata": {
    "scrolled": true
   },
   "outputs": [
    {
     "name": "stderr",
     "output_type": "stream",
     "text": [
      "TRAIN EPOCH: 1 | TRAIN-LOSS: 2.73839 | TRAIN-ACC: 0.82969: 100%|█████████████████████| 279/279 [00:08<00:00, 33.05it/s]\n",
      "validating: 100%|█████████████████████████████████████████████████████████████████████| 34/34 [00:00<00:00, 183.28it/s]\n"
     ]
    },
    {
     "name": "stdout",
     "output_type": "stream",
     "text": [
      "VAL-ACC: 0.83741\n"
     ]
    },
    {
     "name": "stderr",
     "output_type": "stream",
     "text": [
      "TRAIN EPOCH: 2 | TRAIN-LOSS: 2.87300 | TRAIN-ACC: 0.82031: 100%|█████████████████████| 279/279 [00:07<00:00, 38.16it/s]\n",
      "validating: 100%|█████████████████████████████████████████████████████████████████████| 34/34 [00:00<00:00, 173.93it/s]\n"
     ]
    },
    {
     "name": "stdout",
     "output_type": "stream",
     "text": [
      "VAL-ACC: 0.83888\n"
     ]
    },
    {
     "name": "stderr",
     "output_type": "stream",
     "text": [
      "TRAIN EPOCH: 3 | TRAIN-LOSS: 2.62361 | TRAIN-ACC: 0.83750: 100%|█████████████████████| 279/279 [00:07<00:00, 38.24it/s]\n",
      "validating: 100%|█████████████████████████████████████████████████████████████████████| 34/34 [00:00<00:00, 179.43it/s]\n"
     ]
    },
    {
     "name": "stdout",
     "output_type": "stream",
     "text": [
      "VAL-ACC: 0.83585\n"
     ]
    },
    {
     "name": "stderr",
     "output_type": "stream",
     "text": [
      "TRAIN EPOCH: 4 | TRAIN-LOSS: 2.49846 | TRAIN-ACC: 0.85625: 100%|█████████████████████| 279/279 [00:07<00:00, 38.17it/s]\n",
      "validating: 100%|█████████████████████████████████████████████████████████████████████| 34/34 [00:00<00:00, 178.49it/s]\n"
     ]
    },
    {
     "name": "stdout",
     "output_type": "stream",
     "text": [
      "VAL-ACC: 0.84320\n"
     ]
    },
    {
     "name": "stderr",
     "output_type": "stream",
     "text": [
      "TRAIN EPOCH: 5 | TRAIN-LOSS: 2.06785 | TRAIN-ACC: 0.86250: 100%|█████████████████████| 279/279 [00:07<00:00, 38.21it/s]\n",
      "validating: 100%|█████████████████████████████████████████████████████████████████████| 34/34 [00:00<00:00, 174.83it/s]\n"
     ]
    },
    {
     "name": "stdout",
     "output_type": "stream",
     "text": [
      "VAL-ACC: 0.84154\n"
     ]
    },
    {
     "name": "stderr",
     "output_type": "stream",
     "text": [
      "TRAIN EPOCH: 6 | TRAIN-LOSS: 2.44911 | TRAIN-ACC: 0.85000: 100%|█████████████████████| 279/279 [00:07<00:00, 38.03it/s]\n",
      "validating: 100%|█████████████████████████████████████████████████████████████████████| 34/34 [00:00<00:00, 132.65it/s]\n"
     ]
    },
    {
     "name": "stdout",
     "output_type": "stream",
     "text": [
      "VAL-ACC: 0.84449\n"
     ]
    },
    {
     "name": "stderr",
     "output_type": "stream",
     "text": [
      "TRAIN EPOCH: 7 | TRAIN-LOSS: 2.69620 | TRAIN-ACC: 0.83750: 100%|█████████████████████| 279/279 [00:07<00:00, 37.98it/s]\n",
      "validating: 100%|█████████████████████████████████████████████████████████████████████| 34/34 [00:00<00:00, 178.49it/s]\n"
     ]
    },
    {
     "name": "stdout",
     "output_type": "stream",
     "text": [
      "VAL-ACC: 0.84435\n"
     ]
    },
    {
     "name": "stderr",
     "output_type": "stream",
     "text": [
      "TRAIN EPOCH: 8 | TRAIN-LOSS: 2.28328 | TRAIN-ACC: 0.85313: 100%|█████████████████████| 279/279 [00:07<00:00, 38.17it/s]\n",
      "validating: 100%|█████████████████████████████████████████████████████████████████████| 34/34 [00:00<00:00, 181.33it/s]\n"
     ]
    },
    {
     "name": "stdout",
     "output_type": "stream",
     "text": [
      "VAL-ACC: 0.84439\n"
     ]
    },
    {
     "name": "stderr",
     "output_type": "stream",
     "text": [
      "TRAIN EPOCH: 9 | TRAIN-LOSS: 2.74381 | TRAIN-ACC: 0.83281: 100%|█████████████████████| 279/279 [00:07<00:00, 38.01it/s]\n",
      "validating: 100%|█████████████████████████████████████████████████████████████████████| 34/34 [00:00<00:00, 187.31it/s]\n"
     ]
    },
    {
     "name": "stdout",
     "output_type": "stream",
     "text": [
      "VAL-ACC: 0.84508\n"
     ]
    },
    {
     "name": "stderr",
     "output_type": "stream",
     "text": [
      "TRAIN EPOCH: 10 | TRAIN-LOSS: 2.78593 | TRAIN-ACC: 0.81563: 100%|████████████████████| 279/279 [00:07<00:00, 38.05it/s]\n",
      "validating: 100%|█████████████████████████████████████████████████████████████████████| 34/34 [00:00<00:00, 185.28it/s]\n"
     ]
    },
    {
     "name": "stdout",
     "output_type": "stream",
     "text": [
      "VAL-ACC: 0.84467\n"
     ]
    },
    {
     "name": "stderr",
     "output_type": "stream",
     "text": [
      "TRAIN EPOCH: 11 | TRAIN-LOSS: 2.13049 | TRAIN-ACC: 0.86094: 100%|████████████████████| 279/279 [00:07<00:00, 38.02it/s]\n",
      "validating: 100%|█████████████████████████████████████████████████████████████████████| 34/34 [00:00<00:00, 188.35it/s]\n"
     ]
    },
    {
     "name": "stdout",
     "output_type": "stream",
     "text": [
      "VAL-ACC: 0.84421\n"
     ]
    },
    {
     "name": "stderr",
     "output_type": "stream",
     "text": [
      "TRAIN EPOCH: 12 | TRAIN-LOSS: 2.69415 | TRAIN-ACC: 0.84844: 100%|████████████████████| 279/279 [00:07<00:00, 38.03it/s]\n",
      "validating: 100%|█████████████████████████████████████████████████████████████████████| 34/34 [00:00<00:00, 190.45it/s]\n"
     ]
    },
    {
     "name": "stdout",
     "output_type": "stream",
     "text": [
      "VAL-ACC: 0.84490\n"
     ]
    },
    {
     "name": "stderr",
     "output_type": "stream",
     "text": [
      "TRAIN EPOCH: 13 | TRAIN-LOSS: 2.11543 | TRAIN-ACC: 0.86250: 100%|████████████████████| 279/279 [00:07<00:00, 38.12it/s]\n",
      "validating: 100%|█████████████████████████████████████████████████████████████████████| 34/34 [00:00<00:00, 138.56it/s]\n"
     ]
    },
    {
     "name": "stdout",
     "output_type": "stream",
     "text": [
      "VAL-ACC: 0.84490\n"
     ]
    },
    {
     "name": "stderr",
     "output_type": "stream",
     "text": [
      "TRAIN EPOCH: 14 | TRAIN-LOSS: 2.28556 | TRAIN-ACC: 0.85781: 100%|████████████████████| 279/279 [00:07<00:00, 38.06it/s]\n",
      "validating: 100%|█████████████████████████████████████████████████████████████████████| 34/34 [00:00<00:00, 189.39it/s]\n"
     ]
    },
    {
     "name": "stdout",
     "output_type": "stream",
     "text": [
      "VAL-ACC: 0.84619\n"
     ]
    },
    {
     "name": "stderr",
     "output_type": "stream",
     "text": [
      "TRAIN EPOCH: 15 | TRAIN-LOSS: 2.83871 | TRAIN-ACC: 0.80469: 100%|████████████████████| 279/279 [00:07<00:00, 38.01it/s]\n",
      "validating: 100%|█████████████████████████████████████████████████████████████████████| 34/34 [00:00<00:00, 185.28it/s]\n"
     ]
    },
    {
     "name": "stdout",
     "output_type": "stream",
     "text": [
      "VAL-ACC: 0.84577\n"
     ]
    },
    {
     "name": "stderr",
     "output_type": "stream",
     "text": [
      "TRAIN EPOCH: 16 | TRAIN-LOSS: 2.32867 | TRAIN-ACC: 0.85156: 100%|████████████████████| 279/279 [00:07<00:00, 38.08it/s]\n",
      "validating: 100%|█████████████████████████████████████████████████████████████████████| 34/34 [00:00<00:00, 184.28it/s]\n"
     ]
    },
    {
     "name": "stdout",
     "output_type": "stream",
     "text": [
      "VAL-ACC: 0.84609\n"
     ]
    },
    {
     "name": "stderr",
     "output_type": "stream",
     "text": [
      "TRAIN EPOCH: 17 | TRAIN-LOSS: 2.68479 | TRAIN-ACC: 0.81875: 100%|████████████████████| 279/279 [00:07<00:00, 37.87it/s]\n",
      "validating: 100%|█████████████████████████████████████████████████████████████████████| 34/34 [00:00<00:00, 186.29it/s]\n"
     ]
    },
    {
     "name": "stdout",
     "output_type": "stream",
     "text": [
      "VAL-ACC: 0.84559\n"
     ]
    },
    {
     "name": "stderr",
     "output_type": "stream",
     "text": [
      "TRAIN EPOCH: 18 | TRAIN-LOSS: 2.45042 | TRAIN-ACC: 0.83750: 100%|████████████████████| 279/279 [00:07<00:00, 37.91it/s]\n",
      "validating: 100%|█████████████████████████████████████████████████████████████████████| 34/34 [00:00<00:00, 187.31it/s]\n"
     ]
    },
    {
     "name": "stdout",
     "output_type": "stream",
     "text": [
      "VAL-ACC: 0.84545\n"
     ]
    },
    {
     "name": "stderr",
     "output_type": "stream",
     "text": [
      "TRAIN EPOCH: 19 | TRAIN-LOSS: 1.83727 | TRAIN-ACC: 0.90000: 100%|████████████████████| 279/279 [00:07<00:00, 37.95it/s]\n",
      "validating: 100%|█████████████████████████████████████████████████████████████████████| 34/34 [00:00<00:00, 186.29it/s]\n"
     ]
    },
    {
     "name": "stdout",
     "output_type": "stream",
     "text": [
      "VAL-ACC: 0.84545\n"
     ]
    },
    {
     "name": "stderr",
     "output_type": "stream",
     "text": [
      "TRAIN EPOCH: 20 | TRAIN-LOSS: 2.21642 | TRAIN-ACC: 0.88125: 100%|████████████████████| 279/279 [00:07<00:00, 38.10it/s]\n",
      "validating: 100%|█████████████████████████████████████████████████████████████████████| 34/34 [00:00<00:00, 188.35it/s]\n"
     ]
    },
    {
     "name": "stdout",
     "output_type": "stream",
     "text": [
      "VAL-ACC: 0.84513\n"
     ]
    },
    {
     "data": {
      "image/png": "[encoded data removed]",
      "text/plain": [
       "<Figure size 1440x1440 with 2 Axes>"
      ]
     },
     "metadata": {
      "needs_background": "light"
     },
     "output_type": "display_data"
    }
   ],
   "source": [
    "trainer.train(model, train_set, dev_set, device=device, epochs=epochs, batch_size=batch_size, \n",
    "              data_name=data_name, model_name='End2end_LSTM_' + str(seed))"
   ]
  },
  {
   "cell_type": "markdown",
   "metadata": {},
   "source": [
    "Testing"
   ]
  },
  {
   "cell_type": "code",
   "execution_count": 7,
   "metadata": {
    "scrolled": true
   },
   "outputs": [
    {
     "data": {
      "text/plain": [
       "E2E_LSTM(\n",
       "  (E): Embedding(11359, 200)\n",
       "  (encoder): LSTM(200, 50, dropout=0.5, bidirectional=True)\n",
       "  (fc1): Linear(in_features=200, out_features=4, bias=True)\n",
       "  (fc2): Linear(in_features=200, out_features=4, bias=True)\n",
       "  (fc3): Linear(in_features=200, out_features=4, bias=True)\n",
       "  (fc4): Linear(in_features=200, out_features=4, bias=True)\n",
       "  (fc5): Linear(in_features=200, out_features=4, bias=True)\n",
       "  (fc6): Linear(in_features=200, out_features=4, bias=True)\n",
       "  (fc7): Linear(in_features=200, out_features=4, bias=True)\n",
       "  (dropout): Dropout(p=0.5, inplace=False)\n",
       ")"
      ]
     },
     "execution_count": 7,
     "metadata": {},
     "output_type": "execute_result"
    }
   ],
   "source": [
    "model = E2E_LSTM(w2v_model.E, data_name=data_name).to(device)\n",
    "# model = E2E_CNN(w2v_model.E, data_name=data_name).to(device)\n",
    "model.load_state_dict(torch.load(\"./model_params/\" + data_name + \"_End2end_LSTM_\"+ str(seed) +\"_14.model\"))\n",
    "model.eval()"
   ]
  },
  {
   "cell_type": "code",
   "execution_count": 8,
   "metadata": {
    "scrolled": true
   },
   "outputs": [
    {
     "name": "stderr",
     "output_type": "stream",
     "text": [
      "testing: 100%|████████████████████████████████████████████████████████████████████████| 34/34 [00:00<00:00, 180.37it/s]"
     ]
    },
    {
     "name": "stdout",
     "output_type": "stream",
     "text": [
      "ACSA: P: 0.83970 | R: 0.86675 | F1: 0.85301\n",
      "SC: Accuracy: 0.8667457305502846\n"
     ]
    },
    {
     "name": "stderr",
     "output_type": "stream",
     "text": [
      "\n"
     ]
    }
   ],
   "source": [
    "trainer.test(model, test_set, batch_size, device)"
   ]
  },
  {
   "cell_type": "code",
   "execution_count": null,
   "metadata": {},
   "outputs": [],
   "source": []
  },
  {
   "cell_type": "code",
   "execution_count": null,
   "metadata": {},
   "outputs": [],
   "source": []
  }
 ],
 "metadata": {
  "kernelspec": {
   "display_name": "Python 3",
   "language": "python",
   "name": "python3"
  },
  "language_info": {
   "codemirror_mode": {
    "name": "ipython",
    "version": 3
   },
   "file_extension": ".py",
   "mimetype": "text/x-python",
   "name": "python",
   "nbconvert_exporter": "python",
   "pygments_lexer": "ipython3",
   "version": "3.6.8"
  }
 },
 "nbformat": 4,
 "nbformat_minor": 4
}
