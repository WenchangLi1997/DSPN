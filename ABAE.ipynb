{
 "cells": [
  {
   "cell_type": "code",
   "execution_count": 1,
   "id": "aed98f99-9684-4481-a9b2-df30e6c3349f",
   "metadata": {
    "tags": []
   },
   "outputs": [
    {
     "name": "stderr",
     "output_type": "stream",
     "text": [
      "/root/miniconda3/envs/myconda/lib/python3.8/site-packages/tqdm/auto.py:21: TqdmWarning: IProgress not found. Please update jupyter and ipywidgets. See https://ipywidgets.readthedocs.io/en/stable/user_install.html\n",
      "  from .autonotebook import tqdm as notebook_tqdm\n"
     ]
    }
   ],
   "source": [
    "import torch\n",
    "from preprocess import TripPreProcess, ASAPPreProcess\n",
    "from models import ABAE\n",
    "from utils import set_seed\n",
    "from trainer import ABAE_trainer\n",
    "from transformers import BertModel, BertTokenizer"
   ]
  },
  {
   "cell_type": "code",
   "execution_count": 2,
   "id": "0f7e8eb9-ca09-4834-91c1-75b6c0a8b0df",
   "metadata": {
    "tags": []
   },
   "outputs": [],
   "source": [
    "data_name = 'Trip' # ['ASAP', 'Trip', 'rest_14', 'rest_15', 'rest_16', 'mams']\n",
    "device = torch.device('cuda' if torch.cuda.is_available() else 'cpu')\n",
    "seed = 1\n",
    "set_seed(seed)\n",
    "n_epochs = 10\n",
    "batch_size = 32\n",
    "negsize = 5"
   ]
  },
  {
   "cell_type": "code",
   "execution_count": 3,
   "id": "0f363e6e-14f7-4c69-8b1f-1ee5c586adcf",
   "metadata": {},
   "outputs": [
    {
     "name": "stderr",
     "output_type": "stream",
     "text": [
      "Some weights of the model checkpoint at ./model_params/bert-base-uncased were not used when initializing BertModel: ['cls.predictions.transform.LayerNorm.bias', 'cls.predictions.bias', 'cls.seq_relationship.weight', 'cls.predictions.transform.dense.weight', 'cls.predictions.decoder.weight', 'cls.predictions.transform.dense.bias', 'cls.seq_relationship.bias', 'cls.predictions.transform.LayerNorm.weight']\n",
      "- This IS expected if you are initializing BertModel from the checkpoint of a model trained on another task or with another architecture (e.g. initializing a BertForSequenceClassification model from a BertForPreTraining model).\n",
      "- This IS NOT expected if you are initializing BertModel from the checkpoint of a model that you expect to be exactly identical (initializing a BertForSequenceClassification model from a BertForSequenceClassification model).\n",
      "Some weights of the model checkpoint at ./model_params/bert-base-uncased were not used when initializing BertModel: ['cls.predictions.transform.LayerNorm.bias', 'cls.predictions.bias', 'cls.seq_relationship.weight', 'cls.predictions.transform.dense.weight', 'cls.predictions.decoder.weight', 'cls.predictions.transform.dense.bias', 'cls.seq_relationship.bias', 'cls.predictions.transform.LayerNorm.weight']\n",
      "- This IS expected if you are initializing BertModel from the checkpoint of a model trained on another task or with another architecture (e.g. initializing a BertForSequenceClassification model from a BertForPreTraining model).\n",
      "- This IS NOT expected if you are initializing BertModel from the checkpoint of a model that you expect to be exactly identical (initializing a BertForSequenceClassification model from a BertForSequenceClassification model).\n"
     ]
    }
   ],
   "source": [
    "if data_name == 'Trip':\n",
    "    trip = TripPreProcess()\n",
    "    T, train_set, dev_set, test_set = trip.get_dataset()\n",
    "    bert_model = BertModel.from_pretrained(\"./model_params/bert-base-uncased\")\n",
    "    bert_tokenizer = BertTokenizer.from_pretrained(\"./model_params/bert-base-uncased\")\n",
    "elif data_name == 'ASAP':\n",
    "    asap = ASAPPreProcess()\n",
    "    T, train_set, dev_set, test_set = asap.get_dataset()\n",
    "    bert_model = BertModel.from_pretrained(\"./model_params/bert-base-chinese\")\n",
    "    bert_tokenizer = BertTokenizer.from_pretrained(\"./model_params/bert-base-chinese\")"
   ]
  },
  {
   "cell_type": "code",
   "execution_count": 4,
   "id": "87127e97-ce2f-418a-9fb6-1aef88509e66",
   "metadata": {
    "tags": []
   },
   "outputs": [
    {
     "name": "stdout",
     "output_type": "stream",
     "text": [
      "Preparing...\n"
     ]
    }
   ],
   "source": [
    "model = ABAE(T, bert_model, bert_tokenizer).to(device)\n",
    "trainer = ABAE_trainer(data_name)"
   ]
  },
  {
   "cell_type": "markdown",
   "id": "63597503-4291-4844-8a7c-86e06220bf88",
   "metadata": {},
   "source": [
    "### Train"
   ]
  },
  {
   "cell_type": "code",
   "execution_count": null,
   "id": "c8a41971-9b12-4e69-a2c5-3c5c7091c105",
   "metadata": {},
   "outputs": [],
   "source": [
    "trainer.train(model=model, train_set=train_set, dev_set=dev_set, device=device, n_epochs=n_epochs, batch_size=batch_size, negsize=negsize, data_name=data_name, model_name='ABAE_' + str(seed))"
   ]
  },
  {
   "cell_type": "markdown",
   "id": "156b4b45-d3f1-4dfe-bf96-c113be224447",
   "metadata": {},
   "source": [
    "### Test"
   ]
  },
  {
   "cell_type": "code",
   "execution_count": 5,
   "id": "87f6a1a2-fd2f-461b-a00d-8ac4935c844a",
   "metadata": {},
   "outputs": [
    {
     "data": {
      "text/plain": [
       "<All keys matched successfully>"
      ]
     },
     "execution_count": 5,
     "metadata": {},
     "output_type": "execute_result"
    }
   ],
   "source": [
    "model = ABAE(T, bert_model, bert_tokenizer).to(device)\n",
    "model.load_state_dict(torch.load(\"./model_params/\" + data_name + \"_ABAE_\" + str(seed) + \".model\", map_location=device))"
   ]
  },
  {
   "cell_type": "code",
   "execution_count": 6,
   "id": "943c2754-e0cb-4596-b131-05c5911d51c8",
   "metadata": {},
   "outputs": [
    {
     "name": "stdout",
     "output_type": "stream",
     "text": [
      "Th: 0.00001 | P: 0.86455 | R: 1.00000 | F1: 0.92736\n",
      "Th: 0.00006 | P: 0.86455 | R: 1.00000 | F1: 0.92736\n",
      "Th: 0.00011 | P: 0.86531 | R: 0.96385 | F1: 0.91193\n",
      "Th: 0.00017 | P: 0.86501 | R: 0.95954 | F1: 0.90982\n",
      "Th: 0.00022 | P: 0.86347 | R: 0.93741 | F1: 0.89893\n",
      "Th: 0.00027 | P: 0.86045 | R: 0.89741 | F1: 0.87854\n",
      "Th: 0.00032 | P: 0.85578 | R: 0.86200 | F1: 0.85888\n",
      "Th: 0.00037 | P: 0.85536 | R: 0.85735 | F1: 0.85635\n",
      "Th: 0.00043 | P: 0.86121 | R: 0.84367 | F1: 0.85235\n",
      "Th: 0.00048 | P: 0.87162 | R: 0.78364 | F1: 0.82529\n",
      "Th: 0.00053 | P: 0.87109 | R: 0.77836 | F1: 0.82212\n",
      "Th: 0.00058 | P: 0.86922 | R: 0.76224 | F1: 0.81223\n",
      "Th: 0.00064 | P: 0.86796 | R: 0.74675 | F1: 0.80281\n",
      "Th: 0.00069 | P: 0.86732 | R: 0.73966 | F1: 0.79842\n",
      "Th: 0.00074 | P: 0.86723 | R: 0.73909 | F1: 0.79805\n",
      "Th: 0.00079 | P: 0.86731 | R: 0.73847 | F1: 0.79772\n",
      "Th: 0.00084 | P: 0.86736 | R: 0.73807 | F1: 0.79751\n",
      "Th: 0.00090 | P: 0.86777 | R: 0.73137 | F1: 0.79376\n",
      "Th: 0.00095 | P: 0.86936 | R: 0.70953 | F1: 0.78135\n",
      "Th: 0.00100 | P: 0.86650 | R: 0.68762 | F1: 0.76677\n"
     ]
    }
   ],
   "source": [
    "trainer.test_acd(model, test_set, batch_size=batch_size, device=device)"
   ]
  },
  {
   "cell_type": "code",
   "execution_count": null,
   "id": "05ae4e77-898a-4ea9-9fe6-23204f03dbd4",
   "metadata": {},
   "outputs": [],
   "source": []
  },
  {
   "cell_type": "code",
   "execution_count": null,
   "id": "79fdd1fb-3d4a-46f1-a7eb-4a3757002ddb",
   "metadata": {},
   "outputs": [],
   "source": []
  },
  {
   "cell_type": "code",
   "execution_count": null,
   "id": "f2e5edc3-491a-4d13-8171-57667cd32e8d",
   "metadata": {},
   "outputs": [],
   "source": []
  },
  {
   "cell_type": "code",
   "execution_count": null,
   "id": "41a3c0b4-a9e0-476d-a625-98ffde5682b6",
   "metadata": {},
   "outputs": [],
   "source": []
  }
 ],
 "metadata": {
  "kernelspec": {
   "display_name": "myconda",
   "language": "python",
   "name": "myconda"
  },
  "language_info": {
   "codemirror_mode": {
    "name": "ipython",
    "version": 3
   },
   "file_extension": ".py",
   "mimetype": "text/x-python",
   "name": "python",
   "nbconvert_exporter": "python",
   "pygments_lexer": "ipython3",
   "version": "3.8.12"
  }
 },
 "nbformat": 4,
 "nbformat_minor": 5
}
