{
 "cells": [
  {
   "cell_type": "code",
   "execution_count": 1,
   "metadata": {
    "ExecuteTime": {
     "end_time": "2022-05-09T01:04:35.103074Z",
     "start_time": "2022-05-09T01:04:28.138192Z"
    }
   },
   "outputs": [],
   "source": [
    "import torch\n",
    "import numpy as np\n",
    "import pandas as pd\n",
    "from preprocess.PreProcess import ASAP_PreProcess, TA_PreProcess, GS_PreProcess\n",
    "from models import ABAE\n",
    "from trainer import ABAE_trainer\n",
    "import warnings\n",
    "warnings.filterwarnings(\"ignore\")"
   ]
  },
  {
   "cell_type": "code",
   "execution_count": 2,
   "metadata": {
    "ExecuteTime": {
     "end_time": "2022-05-09T01:04:35.118010Z",
     "start_time": "2022-05-09T01:04:35.103074Z"
    }
   },
   "outputs": [],
   "source": [
    "data_name = 'GS' # ['ASAP', 'TA']\n",
    "device = torch.device('cuda' if torch.cuda.is_available() else 'cpu')\n",
    "seed = 1\n",
    "torch.manual_seed(seed)\n",
    "torch.cuda.manual_seed_all(seed)\n",
    "np.random.seed(seed)\n",
    "torch.backends.cudnn.deterministic = True"
   ]
  },
  {
   "cell_type": "code",
   "execution_count": 3,
   "metadata": {
    "ExecuteTime": {
     "end_time": "2022-05-09T01:04:43.428631Z",
     "start_time": "2022-05-09T01:04:35.810894Z"
    }
   },
   "outputs": [
    {
     "name": "stdout",
     "output_type": "stream",
     "text": [
      "N_vocab: 11359 | D_embed: 200 | N_aspects: 20\n"
     ]
    }
   ],
   "source": [
    "if data_name == 'ASAP':\n",
    "    asap = ASAP_PreProcess()\n",
    "    w2v_model, train_set, dev_set, test_set = asap.get_dataset()\n",
    "elif data_name == 'TA':\n",
    "    ta = TA_PreProcess()\n",
    "    w2v_model, train_set, dev_set, test_set = ta.get_dataset()\n",
    "elif data_name == 'GS':\n",
    "    gs = GS_PreProcess()\n",
    "    w2v_model, train_set, dev_set, test_set = gs.get_dataset()"
   ]
  },
  {
   "cell_type": "markdown",
   "metadata": {},
   "source": [
    "### Train"
   ]
  },
  {
   "cell_type": "code",
   "execution_count": 4,
   "metadata": {
    "ExecuteTime": {
     "end_time": "2022-05-09T01:04:45.074711Z",
     "start_time": "2022-05-09T01:04:44.972072Z"
    },
    "scrolled": true
   },
   "outputs": [
    {
     "data": {
      "text/plain": [
       "ABAE(\n",
       "  (E): Embedding(11359, 200)\n",
       "  (T): Embedding(20, 200)\n",
       "  (attention): attention(\n",
       "    (M): Linear(in_features=200, out_features=200, bias=True)\n",
       "  )\n",
       "  (linear): Linear(in_features=200, out_features=20, bias=True)\n",
       ")"
      ]
     },
     "execution_count": 4,
     "metadata": {},
     "output_type": "execute_result"
    }
   ],
   "source": [
    "model = ABAE(w2v_model.E, w2v_model.T).to(device)\n",
    "model"
   ]
  },
  {
   "cell_type": "code",
   "execution_count": 5,
   "metadata": {},
   "outputs": [
    {
     "name": "stdout",
     "output_type": "stream",
     "text": [
      "Preparing...\n"
     ]
    },
    {
     "name": "stderr",
     "output_type": "stream",
     "text": [
      "44736it [00:31, 1412.02it/s]\n"
     ]
    }
   ],
   "source": [
    "epochs = 20\n",
    "batch_size = 128\n",
    "negsize = 20\n",
    "trainer = ABAE_trainer(data_name=data_name)"
   ]
  },
  {
   "cell_type": "code",
   "execution_count": 6,
   "metadata": {
    "ExecuteTime": {
     "end_time": "2022-05-03T02:56:55.156601Z",
     "start_time": "2022-05-03T02:56:52.834543Z"
    },
    "scrolled": true
   },
   "outputs": [
    {
     "name": "stderr",
     "output_type": "stream",
     "text": [
      "TRAIN EPOCH: 1 | TRAIN-LOSS: 484.43964: 100%|████████████████████████████████████████| 279/279 [00:09<00:00, 30.30it/s]\n",
      "VAL BATCH: 34 | VAL-LOSS: 529.08363: 100%|█████████████████████████████████████████████| 34/34 [00:00<00:00, 91.64it/s]\n"
     ]
    },
    {
     "name": "stdout",
     "output_type": "stream",
     "text": [
      "Coherence Score(10->50): [-160.16966247558594, -677.4061279296875, -1556.350341796875, -2744.97607421875, -4142.93505859375]\n"
     ]
    },
    {
     "name": "stderr",
     "output_type": "stream",
     "text": [
      "TRAIN EPOCH: 2 | TRAIN-LOSS: 406.12173: 100%|████████████████████████████████████████| 279/279 [00:07<00:00, 39.11it/s]\n",
      "VAL BATCH: 34 | VAL-LOSS: 485.23865: 100%|█████████████████████████████████████████████| 34/34 [00:00<00:00, 90.19it/s]\n"
     ]
    },
    {
     "name": "stdout",
     "output_type": "stream",
     "text": [
      "Coherence Score(10->50): [-162.31594848632812, -680.0878295898438, -1558.244140625, -2724.577880859375, -4121.64697265625]\n"
     ]
    },
    {
     "name": "stderr",
     "output_type": "stream",
     "text": [
      "TRAIN EPOCH: 3 | TRAIN-LOSS: 408.32162: 100%|████████████████████████████████████████| 279/279 [00:07<00:00, 38.98it/s]\n",
      "VAL BATCH: 34 | VAL-LOSS: 482.79650: 100%|█████████████████████████████████████████████| 34/34 [00:00<00:00, 92.14it/s]\n"
     ]
    },
    {
     "name": "stdout",
     "output_type": "stream",
     "text": [
      "Coherence Score(10->50): [-162.01380920410156, -673.1769409179688, -1545.77978515625, -2724.997314453125, -4120.2978515625]\n"
     ]
    },
    {
     "name": "stderr",
     "output_type": "stream",
     "text": [
      "TRAIN EPOCH: 4 | TRAIN-LOSS: 446.03699: 100%|████████████████████████████████████████| 279/279 [00:07<00:00, 39.33it/s]\n",
      "VAL BATCH: 34 | VAL-LOSS: 473.96105: 100%|█████████████████████████████████████████████| 34/34 [00:00<00:00, 93.91it/s]\n"
     ]
    },
    {
     "name": "stdout",
     "output_type": "stream",
     "text": [
      "Coherence Score(10->50): [-160.04849243164062, -686.8779907226562, -1553.997802734375, -2744.270751953125, -4140.1669921875]\n"
     ]
    },
    {
     "name": "stderr",
     "output_type": "stream",
     "text": [
      "TRAIN EPOCH: 5 | TRAIN-LOSS: 444.31662: 100%|████████████████████████████████████████| 279/279 [00:07<00:00, 39.03it/s]\n",
      "VAL BATCH: 34 | VAL-LOSS: 465.94260: 100%|█████████████████████████████████████████████| 34/34 [00:00<00:00, 92.89it/s]\n"
     ]
    },
    {
     "name": "stdout",
     "output_type": "stream",
     "text": [
      "Coherence Score(10->50): [-158.529541015625, -686.3407592773438, -1542.973388671875, -2731.04150390625, -4133.15234375]\n"
     ]
    },
    {
     "name": "stderr",
     "output_type": "stream",
     "text": [
      "TRAIN EPOCH: 6 | TRAIN-LOSS: 375.68826: 100%|████████████████████████████████████████| 279/279 [00:07<00:00, 39.04it/s]\n",
      "VAL BATCH: 34 | VAL-LOSS: 443.39457: 100%|█████████████████████████████████████████████| 34/34 [00:00<00:00, 90.91it/s]\n"
     ]
    },
    {
     "name": "stdout",
     "output_type": "stream",
     "text": [
      "Coherence Score(10->50): [-159.58511352539062, -678.1920166015625, -1533.8165283203125, -2726.146240234375, -4121.05224609375]\n"
     ]
    },
    {
     "name": "stderr",
     "output_type": "stream",
     "text": [
      "TRAIN EPOCH: 7 | TRAIN-LOSS: 434.57391: 100%|████████████████████████████████████████| 279/279 [00:07<00:00, 38.86it/s]\n",
      "VAL BATCH: 34 | VAL-LOSS: 441.19850: 100%|█████████████████████████████████████████████| 34/34 [00:00<00:00, 89.71it/s]\n"
     ]
    },
    {
     "name": "stdout",
     "output_type": "stream",
     "text": [
      "Coherence Score(10->50): [-159.8297882080078, -675.6692504882812, -1534.6595458984375, -2722.18701171875, -4121.052734375]\n"
     ]
    },
    {
     "name": "stderr",
     "output_type": "stream",
     "text": [
      "TRAIN EPOCH: 8 | TRAIN-LOSS: 401.91296: 100%|████████████████████████████████████████| 279/279 [00:07<00:00, 38.61it/s]\n",
      "VAL BATCH: 34 | VAL-LOSS: 439.11342: 100%|█████████████████████████████████████████████| 34/34 [00:00<00:00, 88.55it/s]\n"
     ]
    },
    {
     "name": "stdout",
     "output_type": "stream",
     "text": [
      "Coherence Score(10->50): [-159.9512939453125, -678.7022705078125, -1537.255615234375, -2723.751953125, -4126.5732421875]\n"
     ]
    },
    {
     "name": "stderr",
     "output_type": "stream",
     "text": [
      "TRAIN EPOCH: 9 | TRAIN-LOSS: 404.09830: 100%|████████████████████████████████████████| 279/279 [00:07<00:00, 38.72it/s]\n",
      "VAL BATCH: 34 | VAL-LOSS: 441.81028: 100%|█████████████████████████████████████████████| 34/34 [00:00<00:00, 88.09it/s]\n"
     ]
    },
    {
     "name": "stdout",
     "output_type": "stream",
     "text": [
      "Coherence Score(10->50): [-161.07421875, -677.0218505859375, -1536.46142578125, -2729.435546875, -4125.1845703125]\n"
     ]
    },
    {
     "name": "stderr",
     "output_type": "stream",
     "text": [
      "TRAIN EPOCH: 10 | TRAIN-LOSS: 408.37906: 100%|███████████████████████████████████████| 279/279 [00:07<00:00, 38.55it/s]\n",
      "VAL BATCH: 34 | VAL-LOSS: 436.21579: 100%|█████████████████████████████████████████████| 34/34 [00:00<00:00, 90.43it/s]\n"
     ]
    },
    {
     "name": "stdout",
     "output_type": "stream",
     "text": [
      "Coherence Score(10->50): [-163.16665649414062, -674.1063232421875, -1533.0030517578125, -2724.097900390625, -4120.3623046875]\n"
     ]
    },
    {
     "name": "stderr",
     "output_type": "stream",
     "text": [
      "TRAIN EPOCH: 11 | TRAIN-LOSS: 441.44687: 100%|███████████████████████████████████████| 279/279 [00:07<00:00, 38.43it/s]\n",
      "VAL BATCH: 34 | VAL-LOSS: 432.91786: 100%|█████████████████████████████████████████████| 34/34 [00:00<00:00, 88.32it/s]\n"
     ]
    },
    {
     "name": "stdout",
     "output_type": "stream",
     "text": [
      "Coherence Score(10->50): [-164.31369018554688, -677.4078979492188, -1535.7330322265625, -2732.388916015625, -4123.82373046875]\n"
     ]
    },
    {
     "name": "stderr",
     "output_type": "stream",
     "text": [
      "TRAIN EPOCH: 12 | TRAIN-LOSS: 370.35614: 100%|███████████████████████████████████████| 279/279 [00:07<00:00, 38.54it/s]\n",
      "VAL BATCH: 34 | VAL-LOSS: 434.62409: 100%|█████████████████████████████████████████████| 34/34 [00:00<00:00, 87.64it/s]\n"
     ]
    },
    {
     "name": "stdout",
     "output_type": "stream",
     "text": [
      "Coherence Score(10->50): [-164.53968811035156, -677.6790771484375, -1536.509765625, -2732.98681640625, -4125.4375]\n"
     ]
    },
    {
     "name": "stderr",
     "output_type": "stream",
     "text": [
      "TRAIN EPOCH: 13 | TRAIN-LOSS: 396.08572: 100%|███████████████████████████████████████| 279/279 [00:07<00:00, 38.28it/s]\n",
      "VAL BATCH: 34 | VAL-LOSS: 436.79106: 100%|█████████████████████████████████████████████| 34/34 [00:00<00:00, 89.48it/s]\n"
     ]
    },
    {
     "name": "stdout",
     "output_type": "stream",
     "text": [
      "Coherence Score(10->50): [-164.78390502929688, -678.34228515625, -1537.7587890625, -2734.469482421875, -4127.44287109375]\n"
     ]
    },
    {
     "name": "stderr",
     "output_type": "stream",
     "text": [
      "TRAIN EPOCH: 14 | TRAIN-LOSS: 457.32983: 100%|███████████████████████████████████████| 279/279 [00:07<00:00, 38.37it/s]\n",
      "VAL BATCH: 34 | VAL-LOSS: 433.38565: 100%|█████████████████████████████████████████████| 34/34 [00:00<00:00, 90.19it/s]\n"
     ]
    },
    {
     "name": "stdout",
     "output_type": "stream",
     "text": [
      "Coherence Score(10->50): [-164.71482849121094, -678.452392578125, -1536.2913818359375, -2734.64208984375, -4127.65185546875]\n"
     ]
    },
    {
     "name": "stderr",
     "output_type": "stream",
     "text": [
      "TRAIN EPOCH: 15 | TRAIN-LOSS: 393.84326: 100%|███████████████████████████████████████| 279/279 [00:07<00:00, 38.35it/s]\n",
      "VAL BATCH: 34 | VAL-LOSS: 434.77767: 100%|█████████████████████████████████████████████| 34/34 [00:00<00:00, 85.23it/s]\n"
     ]
    },
    {
     "name": "stdout",
     "output_type": "stream",
     "text": [
      "Coherence Score(10->50): [-165.36862182617188, -678.7615356445312, -1536.0155029296875, -2734.32080078125, -4127.5517578125]\n"
     ]
    },
    {
     "name": "stderr",
     "output_type": "stream",
     "text": [
      "TRAIN EPOCH: 16 | TRAIN-LOSS: 437.61978: 100%|███████████████████████████████████████| 279/279 [00:07<00:00, 38.43it/s]\n",
      "VAL BATCH: 34 | VAL-LOSS: 432.05654: 100%|█████████████████████████████████████████████| 34/34 [00:00<00:00, 88.78it/s]\n"
     ]
    },
    {
     "name": "stdout",
     "output_type": "stream",
     "text": [
      "Coherence Score(10->50): [-165.3308868408203, -678.5518188476562, -1535.890380859375, -2734.318359375, -4127.40576171875]\n"
     ]
    },
    {
     "name": "stderr",
     "output_type": "stream",
     "text": [
      "TRAIN EPOCH: 17 | TRAIN-LOSS: 430.17526: 100%|███████████████████████████████████████| 279/279 [00:07<00:00, 38.74it/s]\n",
      "VAL BATCH: 34 | VAL-LOSS: 435.01351: 100%|█████████████████████████████████████████████| 34/34 [00:00<00:00, 86.31it/s]\n"
     ]
    },
    {
     "name": "stdout",
     "output_type": "stream",
     "text": [
      "Coherence Score(10->50): [-165.3881378173828, -678.6151123046875, -1535.960693359375, -2734.38818359375, -4127.3876953125]\n"
     ]
    },
    {
     "name": "stderr",
     "output_type": "stream",
     "text": [
      "TRAIN EPOCH: 18 | TRAIN-LOSS: 414.52170: 100%|███████████████████████████████████████| 279/279 [00:07<00:00, 38.65it/s]\n",
      "VAL BATCH: 34 | VAL-LOSS: 434.85812: 100%|█████████████████████████████████████████████| 34/34 [00:00<00:00, 88.32it/s]\n"
     ]
    },
    {
     "name": "stdout",
     "output_type": "stream",
     "text": [
      "Coherence Score(10->50): [-165.57247924804688, -678.8406982421875, -1536.186279296875, -2734.614013671875, -4127.61328125]\n"
     ]
    },
    {
     "name": "stderr",
     "output_type": "stream",
     "text": [
      "TRAIN EPOCH: 19 | TRAIN-LOSS: 377.89264: 100%|███████████████████████████████████████| 279/279 [00:07<00:00, 38.51it/s]\n",
      "VAL BATCH: 34 | VAL-LOSS: 433.49635: 100%|█████████████████████████████████████████████| 34/34 [00:00<00:00, 89.48it/s]\n"
     ]
    },
    {
     "name": "stdout",
     "output_type": "stream",
     "text": [
      "Coherence Score(10->50): [-165.46505737304688, -678.718994140625, -1535.952392578125, -2734.142578125, -4126.94921875]\n"
     ]
    },
    {
     "name": "stderr",
     "output_type": "stream",
     "text": [
      "TRAIN EPOCH: 20 | TRAIN-LOSS: 400.29108: 100%|███████████████████████████████████████| 279/279 [00:07<00:00, 38.31it/s]\n",
      "VAL BATCH: 34 | VAL-LOSS: 431.38514: 100%|█████████████████████████████████████████████| 34/34 [00:00<00:00, 89.24it/s]\n"
     ]
    },
    {
     "name": "stdout",
     "output_type": "stream",
     "text": [
      "Coherence Score(10->50): [-165.46505737304688, -678.718994140625, -1535.9593505859375, -2734.06640625, -4126.873046875]\n"
     ]
    },
    {
     "data": {
      "image/png": "[encoded data removed]",
      "text/plain": [
       "<Figure size 432x288 with 1 Axes>"
      ]
     },
     "metadata": {
      "needs_background": "light"
     },
     "output_type": "display_data"
    }
   ],
   "source": [
    "trainer.train(model=model, w2v_model=w2v_model, train_set=train_set, dev_set=dev_set, device=device, epochs=epochs, \n",
    "              batch_size=batch_size, negsize=negsize, ortho_reg=0.1, data_name=data_name, model_name='ABAE_' + str(seed))"
   ]
  },
  {
   "cell_type": "markdown",
   "metadata": {},
   "source": [
    "### Test"
   ]
  },
  {
   "cell_type": "code",
   "execution_count": 6,
   "metadata": {
    "ExecuteTime": {
     "end_time": "2022-05-03T02:59:51.906229Z",
     "start_time": "2022-05-03T02:59:51.879241Z"
    },
    "scrolled": true
   },
   "outputs": [
    {
     "data": {
      "text/plain": [
       "ABAE(\n",
       "  (E): Embedding(11359, 200)\n",
       "  (T): Embedding(20, 200)\n",
       "  (attention): attention(\n",
       "    (M): Linear(in_features=200, out_features=200, bias=True)\n",
       "  )\n",
       "  (linear): Linear(in_features=200, out_features=20, bias=True)\n",
       ")"
      ]
     },
     "execution_count": 6,
     "metadata": {},
     "output_type": "execute_result"
    }
   ],
   "source": [
    "model = ABAE(w2v_model.E, w2v_model.T).to(device)\n",
    "model.load_state_dict(torch.load(\"./model_params/\" + data_name + \"_ABAE_\" + str(seed) + \"_20.model\", map_location=device))\n",
    "model.eval()"
   ]
  },
  {
   "cell_type": "code",
   "execution_count": 7,
   "metadata": {
    "ExecuteTime": {
     "end_time": "2022-05-03T03:00:02.893574Z",
     "start_time": "2022-05-03T03:00:02.864575Z"
    },
    "scrolled": true
   },
   "outputs": [
    {
     "name": "stdout",
     "output_type": "stream",
     "text": [
      "Th: 0.01000 | P: 0.96944 | R: 1.00000 | F1: 0.98448\n",
      "Th: 0.01184 | P: 0.96944 | R: 1.00000 | F1: 0.98448\n",
      "Th: 0.01367 | P: 0.96944 | R: 1.00000 | F1: 0.98448\n",
      "Th: 0.01551 | P: 0.96943 | R: 0.99984 | F1: 0.98440\n",
      "Th: 0.01735 | P: 0.96943 | R: 0.99968 | F1: 0.98432\n",
      "Th: 0.01918 | P: 0.96949 | R: 0.99929 | F1: 0.98417\n",
      "Th: 0.02102 | P: 0.96945 | R: 0.99779 | F1: 0.98341\n",
      "Th: 0.02286 | P: 0.96942 | R: 0.99431 | F1: 0.98171\n",
      "Th: 0.02469 | P: 0.96928 | R: 0.98712 | F1: 0.97812\n",
      "Th: 0.02653 | P: 0.96909 | R: 0.97100 | F1: 0.97005\n",
      "Th: 0.02837 | P: 0.96884 | R: 0.94817 | F1: 0.95839\n",
      "Th: 0.03020 | P: 0.96848 | R: 0.91278 | F1: 0.93980\n",
      "Th: 0.03204 | P: 0.96880 | R: 0.86103 | F1: 0.91174\n",
      "Th: 0.03388 | P: 0.96903 | R: 0.79837 | F1: 0.87546\n",
      "Th: 0.03571 | P: 0.96940 | R: 0.73090 | F1: 0.83342\n",
      "Th: 0.03755 | P: 0.96849 | R: 0.65813 | F1: 0.78370\n",
      "Th: 0.03939 | P: 0.96678 | R: 0.58410 | F1: 0.72823\n",
      "Th: 0.04122 | P: 0.96567 | R: 0.51110 | F1: 0.66842\n",
      "Th: 0.04306 | P: 0.96489 | R: 0.44300 | F1: 0.60721\n",
      "Th: 0.04490 | P: 0.96429 | R: 0.38406 | F1: 0.54933\n",
      "Th: 0.04673 | P: 0.96383 | R: 0.33689 | F1: 0.49927\n",
      "Th: 0.04857 | P: 0.96408 | R: 0.29264 | F1: 0.44900\n",
      "Th: 0.05041 | P: 0.96410 | R: 0.25464 | F1: 0.40288\n",
      "Th: 0.05224 | P: 0.96332 | R: 0.22407 | F1: 0.36357\n",
      "Th: 0.05408 | P: 0.96169 | R: 0.19436 | F1: 0.32337\n",
      "Th: 0.05592 | P: 0.96268 | R: 0.17121 | F1: 0.29072\n",
      "Th: 0.05776 | P: 0.96129 | R: 0.15106 | F1: 0.26110\n",
      "Th: 0.05959 | P: 0.96414 | R: 0.13171 | F1: 0.23175\n",
      "Th: 0.06143 | P: 0.96402 | R: 0.11432 | F1: 0.20441\n",
      "Th: 0.06327 | P: 0.96593 | R: 0.10081 | F1: 0.18257\n",
      "Th: 0.06510 | P: 0.96615 | R: 0.08794 | F1: 0.16120\n",
      "Th: 0.06694 | P: 0.96457 | R: 0.07743 | F1: 0.14335\n",
      "Th: 0.06878 | P: 0.96800 | R: 0.06692 | F1: 0.12518\n",
      "Th: 0.07061 | P: 0.97185 | R: 0.05728 | F1: 0.10818\n",
      "Th: 0.07245 | P: 0.97017 | R: 0.04883 | F1: 0.09297\n",
      "Th: 0.07429 | P: 0.96679 | R: 0.04140 | F1: 0.07940\n",
      "Th: 0.07612 | P: 0.96567 | R: 0.03555 | F1: 0.06858\n",
      "Th: 0.07796 | P: 0.96782 | R: 0.03089 | F1: 0.05987\n",
      "Th: 0.07980 | P: 0.97391 | R: 0.02655 | F1: 0.05168\n",
      "Th: 0.08163 | P: 0.97917 | R: 0.02228 | F1: 0.04357\n",
      "Th: 0.08347 | P: 0.97942 | R: 0.01880 | F1: 0.03690\n",
      "Th: 0.08531 | P: 0.98039 | R: 0.01580 | F1: 0.03110\n",
      "Th: 0.08714 | P: 0.97605 | R: 0.01288 | F1: 0.02542\n",
      "Th: 0.08898 | P: 0.97794 | R: 0.01051 | F1: 0.02079\n",
      "Th: 0.09082 | P: 0.99057 | R: 0.00830 | F1: 0.01645\n",
      "Th: 0.09265 | P: 0.98810 | R: 0.00656 | F1: 0.01303\n",
      "Th: 0.09449 | P: 0.98592 | R: 0.00553 | F1: 0.01100\n",
      "Th: 0.09633 | P: 0.98413 | R: 0.00490 | F1: 0.00975\n",
      "Th: 0.09816 | P: 0.98077 | R: 0.00403 | F1: 0.00803\n",
      "Th: 0.10000 | P: 0.97674 | R: 0.00332 | F1: 0.00661\n"
     ]
    }
   ],
   "source": [
    "trainer.test(model, test_set, batch_size=batch_size, device=device)"
   ]
  },
  {
   "cell_type": "code",
   "execution_count": null,
   "metadata": {},
   "outputs": [],
   "source": []
  },
  {
   "cell_type": "code",
   "execution_count": null,
   "metadata": {},
   "outputs": [],
   "source": []
  }
 ],
 "metadata": {
  "kernelspec": {
   "display_name": "Python 3",
   "language": "python",
   "name": "python3"
  },
  "language_info": {
   "codemirror_mode": {
    "name": "ipython",
    "version": 3
   },
   "file_extension": ".py",
   "mimetype": "text/x-python",
   "name": "python",
   "nbconvert_exporter": "python",
   "pygments_lexer": "ipython3",
   "version": "3.9.12"
  }
 },
 "nbformat": 4,
 "nbformat_minor": 4
}
