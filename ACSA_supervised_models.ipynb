{
 "cells": [
  {
   "cell_type": "code",
   "execution_count": 1,
   "metadata": {
    "ExecuteTime": {
     "end_time": "2022-05-03T02:30:37.280090Z",
     "start_time": "2022-05-03T02:30:32.703662Z"
    }
   },
   "outputs": [],
   "source": [
    "import torch\n",
    "import torch.nn as nn\n",
    "import numpy as np\n",
    "import pandas as pd\n",
    "from preprocess.PreProcess import ASAP_PreProcess, TA_PreProcess, GS_PreProcess\n",
    "from models import ABAE, JPAN, CNN_Gate_Aspect_Text\n",
    "from capsnet import RecurrentCapsuleNetwork, CapsuleLoss\n",
    "from trainer import ACSA_supervised_model_trainer\n",
    "import warnings\n",
    "warnings.filterwarnings(\"ignore\")"
   ]
  },
  {
   "cell_type": "code",
   "execution_count": 2,
   "metadata": {
    "ExecuteTime": {
     "end_time": "2022-05-03T02:30:37.301880Z",
     "start_time": "2022-05-03T02:30:37.280090Z"
    }
   },
   "outputs": [],
   "source": [
    "data_name = 'GS' # ['ASAP', 'TA']\n",
    "device = torch.device('cuda' if torch.cuda.is_available() else 'cpu')\n",
    "seed = 1\n",
    "torch.manual_seed(seed)\n",
    "torch.cuda.manual_seed_all(seed)\n",
    "np.random.seed(seed)\n",
    "torch.backends.cudnn.deterministic = True"
   ]
  },
  {
   "cell_type": "code",
   "execution_count": 3,
   "metadata": {},
   "outputs": [
    {
     "name": "stdout",
     "output_type": "stream",
     "text": [
      "N_vocab: 11359 | D_embed: 200 | N_aspects: 20\n"
     ]
    }
   ],
   "source": [
    "if data_name == 'ASAP':\n",
    "    asap = ASAP_PreProcess(duplicate=True)\n",
    "    w2v_model, train_set, dev_set, test_set = asap.get_dataset(duplicate=True)\n",
    "elif data_name == 'TA':\n",
    "    ta = TA_PreProcess(duplicate=True)\n",
    "    w2v_model, train_set, dev_set, test_set = ta.get_dataset(duplicate=True)\n",
    "elif data_name == 'GS':\n",
    "    gs = GS_PreProcess(duplicate=True)\n",
    "    w2v_model, train_set, dev_set, test_set = gs.get_dataset(duplicate=True)"
   ]
  },
  {
   "cell_type": "markdown",
   "metadata": {},
   "source": [
    "### Train"
   ]
  },
  {
   "cell_type": "code",
   "execution_count": 4,
   "metadata": {},
   "outputs": [
    {
     "data": {
      "text/plain": [
       "RecurrentCapsuleNetwork(\n",
       "  (embedding): Embedding(11359, 200)\n",
       "  (aspect_embedding): Embedding(20, 200)\n",
       "  (aspect_transform): Sequential(\n",
       "    (0): Linear(in_features=200, out_features=300, bias=True)\n",
       "    (1): Dropout(p=0.5, inplace=False)\n",
       "  )\n",
       "  (sentence_transform): Sequential(\n",
       "    (0): Linear(in_features=400, out_features=300, bias=True)\n",
       "    (1): Dropout(p=0.5, inplace=False)\n",
       "  )\n",
       "  (norm_attention): BilinearAttention()\n",
       "  (capsule_projection): Linear(in_features=300, out_features=900, bias=True)\n",
       "  (rnn): GRU(400, 200, num_layers=2, batch_first=True, bidirectional=True)\n",
       ")"
      ]
     },
     "execution_count": 4,
     "metadata": {},
     "output_type": "execute_result"
    }
   ],
   "source": [
    "# n_vocab, d_embed = w2v_model.E.shape\n",
    "# embedding = nn.Embedding(n_vocab, d_embed)\n",
    "# embedding.weight = nn.Parameter(torch.from_numpy(w2v_model.E), requires_grad=False)\n",
    "# aspect_embedding = nn.Embedding(w2v_model.T.shape[0], embedding_dim=200)\n",
    "# aspect_embedding.weight = nn.Parameter(torch.from_numpy(w2v_model.T), requires_grad=True)\n",
    "\n",
    "# model = RecurrentCapsuleNetwork(\n",
    "#     embedding=embedding,\n",
    "#     aspect_embedding=aspect_embedding,\n",
    "#     num_layers=2,\n",
    "#     bidirectional=True,\n",
    "#     capsule_size=300, # maybe 200\n",
    "#     dropout=0.5,\n",
    "#     num_categories=3\n",
    "# ).to(device)\n",
    "# model"
   ]
  },
  {
   "cell_type": "code",
   "execution_count": 4,
   "metadata": {
    "ExecuteTime": {
     "end_time": "2022-05-02T15:24:27.987003Z",
     "start_time": "2022-05-02T15:24:27.946984Z"
    },
    "scrolled": true
   },
   "outputs": [
    {
     "data": {
      "text/plain": [
       "CNN_Gate_Aspect_Text(\n",
       "  (embed): Embedding(11359, 200)\n",
       "  (aspect_embed): Embedding(20, 200)\n",
       "  (convs1): ModuleList(\n",
       "    (0): Conv1d(200, 100, kernel_size=(3,), stride=(1,))\n",
       "    (1): Conv1d(200, 100, kernel_size=(4,), stride=(1,))\n",
       "    (2): Conv1d(200, 100, kernel_size=(5,), stride=(1,))\n",
       "  )\n",
       "  (convs2): ModuleList(\n",
       "    (0): Conv1d(200, 100, kernel_size=(3,), stride=(1,))\n",
       "    (1): Conv1d(200, 100, kernel_size=(4,), stride=(1,))\n",
       "    (2): Conv1d(200, 100, kernel_size=(5,), stride=(1,))\n",
       "  )\n",
       "  (fc1): Linear(in_features=300, out_features=3, bias=True)\n",
       "  (fc_aspect): Linear(in_features=200, out_features=100, bias=True)\n",
       ")"
      ]
     },
     "execution_count": 4,
     "metadata": {},
     "output_type": "execute_result"
    }
   ],
   "source": [
    "model = CNN_Gate_Aspect_Text(w2v_model.E, w2v_model.T).to(device)\n",
    "model"
   ]
  },
  {
   "cell_type": "markdown",
   "metadata": {},
   "source": [
    "Training"
   ]
  },
  {
   "cell_type": "code",
   "execution_count": 5,
   "metadata": {},
   "outputs": [],
   "source": [
    "epochs = 20\n",
    "batch_size = 128\n",
    "trainer = ACSA_supervised_model_trainer(data_name=data_name)"
   ]
  },
  {
   "cell_type": "code",
   "execution_count": 6,
   "metadata": {
    "ExecuteTime": {
     "end_time": "2022-05-02T15:24:34.467730Z",
     "start_time": "2022-05-02T15:24:27.987003Z"
    },
    "scrolled": true
   },
   "outputs": [
    {
     "name": "stderr",
     "output_type": "stream",
     "text": [
      "TRAIN EPOCH: 1 | TRAIN-LOSS: 0.43937 | TRAIN-ACC: 0.84375: 100%|███████████████████| 1351/1351 [00:40<00:00, 33.19it/s]\n",
      "validating: 100%|███████████████████████████████████████████████████████████████████| 168/168 [00:00<00:00, 189.27it/s]\n"
     ]
    },
    {
     "name": "stdout",
     "output_type": "stream",
     "text": [
      "VAL-ACC: 0.86110\n"
     ]
    },
    {
     "name": "stderr",
     "output_type": "stream",
     "text": [
      "TRAIN EPOCH: 2 | TRAIN-LOSS: 0.19801 | TRAIN-ACC: 0.96094: 100%|███████████████████| 1351/1351 [00:38<00:00, 34.89it/s]\n",
      "validating: 100%|███████████████████████████████████████████████████████████████████| 168/168 [00:00<00:00, 188.84it/s]\n"
     ]
    },
    {
     "name": "stdout",
     "output_type": "stream",
     "text": [
      "VAL-ACC: 0.86291\n"
     ]
    },
    {
     "name": "stderr",
     "output_type": "stream",
     "text": [
      "TRAIN EPOCH: 3 | TRAIN-LOSS: 0.45469 | TRAIN-ACC: 0.84375: 100%|███████████████████| 1351/1351 [00:38<00:00, 35.00it/s]\n",
      "validating: 100%|███████████████████████████████████████████████████████████████████| 168/168 [00:00<00:00, 182.70it/s]\n"
     ]
    },
    {
     "name": "stdout",
     "output_type": "stream",
     "text": [
      "VAL-ACC: 0.86323\n"
     ]
    },
    {
     "name": "stderr",
     "output_type": "stream",
     "text": [
      "TRAIN EPOCH: 4 | TRAIN-LOSS: 0.37563 | TRAIN-ACC: 0.87500: 100%|███████████████████| 1351/1351 [00:38<00:00, 35.37it/s]\n",
      "validating: 100%|███████████████████████████████████████████████████████████████████| 168/168 [00:00<00:00, 185.31it/s]\n"
     ]
    },
    {
     "name": "stdout",
     "output_type": "stream",
     "text": [
      "VAL-ACC: 0.86389\n"
     ]
    },
    {
     "name": "stderr",
     "output_type": "stream",
     "text": [
      "TRAIN EPOCH: 5 | TRAIN-LOSS: 0.33365 | TRAIN-ACC: 0.89844: 100%|███████████████████| 1351/1351 [00:38<00:00, 35.32it/s]\n",
      "validating: 100%|███████████████████████████████████████████████████████████████████| 168/168 [00:00<00:00, 185.72it/s]\n"
     ]
    },
    {
     "name": "stdout",
     "output_type": "stream",
     "text": [
      "VAL-ACC: 0.86482\n"
     ]
    },
    {
     "name": "stderr",
     "output_type": "stream",
     "text": [
      "TRAIN EPOCH: 6 | TRAIN-LOSS: 0.38120 | TRAIN-ACC: 0.86719: 100%|███████████████████| 1351/1351 [00:38<00:00, 35.35it/s]\n",
      "validating: 100%|███████████████████████████████████████████████████████████████████| 168/168 [00:00<00:00, 183.70it/s]\n"
     ]
    },
    {
     "name": "stdout",
     "output_type": "stream",
     "text": [
      "VAL-ACC: 0.86491\n"
     ]
    },
    {
     "name": "stderr",
     "output_type": "stream",
     "text": [
      "TRAIN EPOCH: 7 | TRAIN-LOSS: 0.31678 | TRAIN-ACC: 0.90625: 100%|███████████████████| 1351/1351 [00:38<00:00, 35.17it/s]\n",
      "validating: 100%|███████████████████████████████████████████████████████████████████| 168/168 [00:00<00:00, 185.72it/s]\n"
     ]
    },
    {
     "name": "stdout",
     "output_type": "stream",
     "text": [
      "VAL-ACC: 0.86505\n"
     ]
    },
    {
     "name": "stderr",
     "output_type": "stream",
     "text": [
      "TRAIN EPOCH: 8 | TRAIN-LOSS: 0.33571 | TRAIN-ACC: 0.89844: 100%|███████████████████| 1351/1351 [00:38<00:00, 34.79it/s]\n",
      "validating: 100%|███████████████████████████████████████████████████████████████████| 168/168 [00:00<00:00, 186.13it/s]\n"
     ]
    },
    {
     "name": "stdout",
     "output_type": "stream",
     "text": [
      "VAL-ACC: 0.86514\n"
     ]
    },
    {
     "name": "stderr",
     "output_type": "stream",
     "text": [
      "TRAIN EPOCH: 9 | TRAIN-LOSS: 0.26788 | TRAIN-ACC: 0.94531: 100%|███████████████████| 1351/1351 [00:38<00:00, 34.75it/s]\n",
      "validating: 100%|███████████████████████████████████████████████████████████████████| 168/168 [00:00<00:00, 183.30it/s]\n"
     ]
    },
    {
     "name": "stdout",
     "output_type": "stream",
     "text": [
      "VAL-ACC: 0.86519\n"
     ]
    },
    {
     "name": "stderr",
     "output_type": "stream",
     "text": [
      "TRAIN EPOCH: 10 | TRAIN-LOSS: 0.36247 | TRAIN-ACC: 0.89844: 100%|██████████████████| 1351/1351 [00:38<00:00, 34.72it/s]\n",
      "validating: 100%|███████████████████████████████████████████████████████████████████| 168/168 [00:00<00:00, 185.93it/s]\n"
     ]
    },
    {
     "name": "stdout",
     "output_type": "stream",
     "text": [
      "VAL-ACC: 0.86500\n"
     ]
    },
    {
     "name": "stderr",
     "output_type": "stream",
     "text": [
      "TRAIN EPOCH: 11 | TRAIN-LOSS: 0.31967 | TRAIN-ACC: 0.90625: 100%|██████████████████| 1351/1351 [00:38<00:00, 34.79it/s]\n",
      "validating: 100%|███████████████████████████████████████████████████████████████████| 168/168 [00:00<00:00, 185.52it/s]\n"
     ]
    },
    {
     "name": "stdout",
     "output_type": "stream",
     "text": [
      "VAL-ACC: 0.86533\n"
     ]
    },
    {
     "name": "stderr",
     "output_type": "stream",
     "text": [
      "TRAIN EPOCH: 12 | TRAIN-LOSS: 0.40076 | TRAIN-ACC: 0.84375: 100%|██████████████████| 1351/1351 [00:38<00:00, 34.76it/s]\n",
      "validating: 100%|███████████████████████████████████████████████████████████████████| 168/168 [00:00<00:00, 184.70it/s]\n"
     ]
    },
    {
     "name": "stdout",
     "output_type": "stream",
     "text": [
      "VAL-ACC: 0.86547\n"
     ]
    },
    {
     "name": "stderr",
     "output_type": "stream",
     "text": [
      "TRAIN EPOCH: 13 | TRAIN-LOSS: 0.38776 | TRAIN-ACC: 0.87500: 100%|██████████████████| 1351/1351 [00:38<00:00, 34.78it/s]\n",
      "validating: 100%|███████████████████████████████████████████████████████████████████| 168/168 [00:00<00:00, 186.13it/s]\n"
     ]
    },
    {
     "name": "stdout",
     "output_type": "stream",
     "text": [
      "VAL-ACC: 0.86542\n"
     ]
    },
    {
     "name": "stderr",
     "output_type": "stream",
     "text": [
      "TRAIN EPOCH: 14 | TRAIN-LOSS: 0.37665 | TRAIN-ACC: 0.84375: 100%|██████████████████| 1351/1351 [00:38<00:00, 34.77it/s]\n",
      "validating: 100%|███████████████████████████████████████████████████████████████████| 168/168 [00:00<00:00, 186.34it/s]\n"
     ]
    },
    {
     "name": "stdout",
     "output_type": "stream",
     "text": [
      "VAL-ACC: 0.86547\n"
     ]
    },
    {
     "name": "stderr",
     "output_type": "stream",
     "text": [
      "TRAIN EPOCH: 15 | TRAIN-LOSS: 0.25562 | TRAIN-ACC: 0.92188: 100%|██████████████████| 1351/1351 [00:38<00:00, 34.80it/s]\n",
      "validating: 100%|███████████████████████████████████████████████████████████████████| 168/168 [00:00<00:00, 186.34it/s]\n"
     ]
    },
    {
     "name": "stdout",
     "output_type": "stream",
     "text": [
      "VAL-ACC: 0.86565\n"
     ]
    },
    {
     "name": "stderr",
     "output_type": "stream",
     "text": [
      "TRAIN EPOCH: 16 | TRAIN-LOSS: 0.27776 | TRAIN-ACC: 0.86719: 100%|██████████████████| 1351/1351 [00:38<00:00, 34.80it/s]\n",
      "validating: 100%|███████████████████████████████████████████████████████████████████| 168/168 [00:00<00:00, 185.72it/s]\n"
     ]
    },
    {
     "name": "stdout",
     "output_type": "stream",
     "text": [
      "VAL-ACC: 0.86542\n"
     ]
    },
    {
     "name": "stderr",
     "output_type": "stream",
     "text": [
      "TRAIN EPOCH: 17 | TRAIN-LOSS: 0.51192 | TRAIN-ACC: 0.85156: 100%|██████████████████| 1351/1351 [00:38<00:00, 34.82it/s]\n",
      "validating: 100%|███████████████████████████████████████████████████████████████████| 168/168 [00:00<00:00, 186.13it/s]\n"
     ]
    },
    {
     "name": "stdout",
     "output_type": "stream",
     "text": [
      "VAL-ACC: 0.86537\n"
     ]
    },
    {
     "name": "stderr",
     "output_type": "stream",
     "text": [
      "TRAIN EPOCH: 18 | TRAIN-LOSS: 0.28218 | TRAIN-ACC: 0.91406: 100%|██████████████████| 1351/1351 [00:38<00:00, 34.80it/s]\n",
      "validating: 100%|███████████████████████████████████████████████████████████████████| 168/168 [00:00<00:00, 183.70it/s]\n"
     ]
    },
    {
     "name": "stdout",
     "output_type": "stream",
     "text": [
      "VAL-ACC: 0.86556\n"
     ]
    },
    {
     "name": "stderr",
     "output_type": "stream",
     "text": [
      "TRAIN EPOCH: 19 | TRAIN-LOSS: 0.41765 | TRAIN-ACC: 0.87500: 100%|██████████████████| 1351/1351 [00:38<00:00, 34.78it/s]\n",
      "validating: 100%|███████████████████████████████████████████████████████████████████| 168/168 [00:00<00:00, 186.13it/s]\n"
     ]
    },
    {
     "name": "stdout",
     "output_type": "stream",
     "text": [
      "VAL-ACC: 0.86561\n"
     ]
    },
    {
     "name": "stderr",
     "output_type": "stream",
     "text": [
      "TRAIN EPOCH: 20 | TRAIN-LOSS: 0.30372 | TRAIN-ACC: 0.90625: 100%|██████████████████| 1351/1351 [00:38<00:00, 34.73it/s]\n",
      "validating: 100%|███████████████████████████████████████████████████████████████████| 168/168 [00:00<00:00, 186.13it/s]\n"
     ]
    },
    {
     "name": "stdout",
     "output_type": "stream",
     "text": [
      "VAL-ACC: 0.86551\n"
     ]
    },
    {
     "data": {
      "image/png": "[encoded data removed]",
      "text/plain": [
       "<Figure size 1440x1440 with 2 Axes>"
      ]
     },
     "metadata": {
      "needs_background": "light"
     },
     "output_type": "display_data"
    }
   ],
   "source": [
    "trainer.train(model, train_set, dev_set=dev_set, device=device, epochs=epochs, batch_size=batch_size, \n",
    "              data_name=data_name, model_name='GCAE_' + str(seed))"
   ]
  },
  {
   "cell_type": "markdown",
   "metadata": {},
   "source": [
    "Testing"
   ]
  },
  {
   "cell_type": "code",
   "execution_count": 9,
   "metadata": {
    "ExecuteTime": {
     "end_time": "2022-05-02T15:24:34.515657Z",
     "start_time": "2022-05-02T15:24:34.467730Z"
    },
    "scrolled": false
   },
   "outputs": [
    {
     "data": {
      "text/plain": [
       "CNN_Gate_Aspect_Text(\n",
       "  (embed): Embedding(11359, 200)\n",
       "  (aspect_embed): Embedding(20, 200)\n",
       "  (convs1): ModuleList(\n",
       "    (0): Conv1d(200, 100, kernel_size=(3,), stride=(1,))\n",
       "    (1): Conv1d(200, 100, kernel_size=(4,), stride=(1,))\n",
       "    (2): Conv1d(200, 100, kernel_size=(5,), stride=(1,))\n",
       "  )\n",
       "  (convs2): ModuleList(\n",
       "    (0): Conv1d(200, 100, kernel_size=(3,), stride=(1,))\n",
       "    (1): Conv1d(200, 100, kernel_size=(4,), stride=(1,))\n",
       "    (2): Conv1d(200, 100, kernel_size=(5,), stride=(1,))\n",
       "  )\n",
       "  (fc1): Linear(in_features=300, out_features=3, bias=True)\n",
       "  (fc_aspect): Linear(in_features=200, out_features=100, bias=True)\n",
       ")"
      ]
     },
     "execution_count": 9,
     "metadata": {},
     "output_type": "execute_result"
    }
   ],
   "source": [
    "model = CNN_Gate_Aspect_Text(w2v_model.E, w2v_model.T).to(device)\n",
    "model.load_state_dict(torch.load(\"./model_params/\"+ data_name +\"_GCAE_\" + str(seed) + \"_15.model\"))\n",
    "model.eval()"
   ]
  },
  {
   "cell_type": "code",
   "execution_count": 17,
   "metadata": {},
   "outputs": [
    {
     "data": {
      "text/plain": [
       "RecurrentCapsuleNetwork(\n",
       "  (embedding): Embedding(11359, 200)\n",
       "  (aspect_embedding): Embedding(20, 200)\n",
       "  (aspect_transform): Sequential(\n",
       "    (0): Linear(in_features=200, out_features=300, bias=True)\n",
       "    (1): Dropout(p=0.5, inplace=False)\n",
       "  )\n",
       "  (sentence_transform): Sequential(\n",
       "    (0): Linear(in_features=400, out_features=300, bias=True)\n",
       "    (1): Dropout(p=0.5, inplace=False)\n",
       "  )\n",
       "  (norm_attention): BilinearAttention()\n",
       "  (capsule_projection): Linear(in_features=300, out_features=900, bias=True)\n",
       "  (rnn): GRU(400, 200, num_layers=2, batch_first=True, bidirectional=True)\n",
       ")"
      ]
     },
     "execution_count": 17,
     "metadata": {},
     "output_type": "execute_result"
    }
   ],
   "source": [
    "# model = RecurrentCapsuleNetwork(\n",
    "#     embedding=embedding,\n",
    "#     aspect_embedding=aspect_embedding,\n",
    "#     num_layers=2,\n",
    "#     bidirectional=True,\n",
    "#     capsule_size=300, # maybe 200\n",
    "#     dropout=0.5,\n",
    "#     num_categories=3\n",
    "# ).to(device)\n",
    "# model.load_state_dict(torch.load(\"./model_params/\"+ data_name +\"_CapsNet_\"+ str(seed) + \"_20.model\"))\n",
    "# model.eval()"
   ]
  },
  {
   "cell_type": "code",
   "execution_count": 10,
   "metadata": {
    "ExecuteTime": {
     "end_time": "2022-05-02T15:24:35.042766Z",
     "start_time": "2022-05-02T15:24:34.515657Z"
    },
    "scrolled": true
   },
   "outputs": [
    {
     "name": "stderr",
     "output_type": "stream",
     "text": [
      "testing: 100%|██████████████████████████████████████████████████████████████████████| 168/168 [00:00<00:00, 191.64it/s]"
     ]
    },
    {
     "name": "stdout",
     "output_type": "stream",
     "text": [
      "SC: Accuracy: 0.8674348089751365\n"
     ]
    },
    {
     "name": "stderr",
     "output_type": "stream",
     "text": [
      "\n"
     ]
    }
   ],
   "source": [
    "trainer.test(model, test_set, batch_size, device)"
   ]
  },
  {
   "cell_type": "code",
   "execution_count": null,
   "metadata": {},
   "outputs": [],
   "source": []
  },
  {
   "cell_type": "code",
   "execution_count": null,
   "metadata": {},
   "outputs": [],
   "source": []
  }
 ],
 "metadata": {
  "kernelspec": {
   "display_name": "Python 3",
   "language": "python",
   "name": "python3"
  },
  "language_info": {
   "codemirror_mode": {
    "name": "ipython",
    "version": 3
   },
   "file_extension": ".py",
   "mimetype": "text/x-python",
   "name": "python",
   "nbconvert_exporter": "python",
   "pygments_lexer": "ipython3",
   "version": "3.6.8"
  }
 },
 "nbformat": 4,
 "nbformat_minor": 4
}
