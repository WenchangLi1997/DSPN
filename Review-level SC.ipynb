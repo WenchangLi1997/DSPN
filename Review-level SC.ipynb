{
 "cells": [
  {
   "cell_type": "code",
   "execution_count": 1,
   "metadata": {
    "ExecuteTime": {
     "end_time": "2022-05-01T11:40:23.836373Z",
     "start_time": "2022-05-01T11:40:16.556186Z"
    }
   },
   "outputs": [],
   "source": [
    "import torch\n",
    "import numpy as np\n",
    "import pandas as pd\n",
    "from preprocess.PreProcess import ASAP_PreProcess, TA_PreProcess\n",
    "from trainer import SC_trainer\n",
    "from models import LSTMATT, TextCNN, TextRCNN, BiLSTM\n",
    "import warnings\n",
    "warnings.filterwarnings(\"ignore\")"
   ]
  },
  {
   "cell_type": "code",
   "execution_count": 2,
   "metadata": {
    "ExecuteTime": {
     "end_time": "2022-05-01T11:40:23.867721Z",
     "start_time": "2022-05-01T11:40:23.836373Z"
    }
   },
   "outputs": [],
   "source": [
    "model_name = 'TextCNN' # ['TextRCNN', 'TextCNN', 'BiLSTM_Att', 'BiLSTM']\n",
    "data_name = 'GS' # or 'ASAP'\n",
    "device = torch.device('cuda' if torch.cuda.is_available() else 'cpu')\n",
    "seed = 1\n",
    "torch.manual_seed(seed)\n",
    "torch.cuda.manual_seed_all(seed)\n",
    "np.random.seed(seed)\n",
    "torch.backends.cudnn.deterministic = True"
   ]
  },
  {
   "cell_type": "code",
   "execution_count": 3,
   "metadata": {
    "ExecuteTime": {
     "end_time": "2022-05-01T11:40:26.527283Z",
     "start_time": "2022-05-01T11:40:23.867721Z"
    }
   },
   "outputs": [
    {
     "name": "stdout",
     "output_type": "stream",
     "text": [
      "N_vocab: 14356 | D_embed: 200 | N_aspects: 20\n"
     ]
    }
   ],
   "source": [
    "if data_name == 'ASAP':\n",
    "    asap = ASAP_PreProcess()\n",
    "    w2v_model, train_set, dev_set, test_set = asap.get_dataset()\n",
    "elif data_name == 'TA':\n",
    "    ta = TA_PreProcess()\n",
    "    w2v_model, train_set, dev_set, test_set = ta.get_dataset()\n",
    "elif data_name == 'GS':\n",
    "    gs = TA_PreProcess()\n",
    "    w2v_model, train_set, dev_set, test_set = gs.get_dataset()"
   ]
  },
  {
   "cell_type": "markdown",
   "metadata": {},
   "source": [
    "### Train"
   ]
  },
  {
   "cell_type": "code",
   "execution_count": 4,
   "metadata": {
    "ExecuteTime": {
     "end_time": "2022-05-01T11:40:33.783315Z",
     "start_time": "2022-05-01T11:40:33.727362Z"
    }
   },
   "outputs": [
    {
     "data": {
      "text/plain": [
       "TextCNN(\n",
       "  (E): Embedding(14356, 200)\n",
       "  (convs): Conv1d(\n",
       "    (convs): ModuleList(\n",
       "      (0): Conv1d(200, 200, kernel_size=(1,), stride=(1,))\n",
       "      (1): Conv1d(200, 200, kernel_size=(2,), stride=(1,))\n",
       "      (2): Conv1d(200, 200, kernel_size=(3,), stride=(1,))\n",
       "      (3): Conv1d(200, 200, kernel_size=(4,), stride=(1,))\n",
       "      (4): Conv1d(200, 200, kernel_size=(5,), stride=(1,))\n",
       "    )\n",
       "  )\n",
       "  (dropout): Dropout(p=0.5, inplace=False)\n",
       "  (fc): Linear(in_features=1000, out_features=3, bias=True)\n",
       ")"
      ]
     },
     "execution_count": 4,
     "metadata": {},
     "output_type": "execute_result"
    }
   ],
   "source": [
    "if model_name == 'TextRCNN':\n",
    "    model = TextRCNN(w2v_model.E).to(device)\n",
    "elif model_name == 'BiLSTM_Att':\n",
    "    model = LSTMATT(w2v_model.E).to(device)\n",
    "elif model_name == 'TextCNN':\n",
    "    model = TextCNN(w2v_model.E).to(device)\n",
    "elif model_name == 'BiLSTM':\n",
    "    model = BiLSTM(w2v_model.E).to(device)\n",
    "\n",
    "model"
   ]
  },
  {
   "cell_type": "code",
   "execution_count": 5,
   "metadata": {},
   "outputs": [],
   "source": [
    "epochs = 20\n",
    "batch_size = 128\n",
    "trainer = SC_trainer(data_name=data_name)"
   ]
  },
  {
   "cell_type": "code",
   "execution_count": 6,
   "metadata": {
    "scrolled": true
   },
   "outputs": [
    {
     "name": "stderr",
     "output_type": "stream",
     "text": [
      "TRAIN EPOCH: 1 | TRAIN-LOSS: 0.89816 | TRAIN-F1: 0.56484: 100%|██████████████████████| 183/183 [00:09<00:00, 19.45it/s]\n",
      "validating: 100%|█████████████████████████████████████████████████████████████████████| 22/22 [00:00<00:00, 186.94it/s]\n"
     ]
    },
    {
     "name": "stdout",
     "output_type": "stream",
     "text": [
      "VAL-F1: 0.61406\n"
     ]
    },
    {
     "name": "stderr",
     "output_type": "stream",
     "text": [
      "TRAIN EPOCH: 2 | TRAIN-LOSS: 0.68367 | TRAIN-F1: 0.65299: 100%|██████████████████████| 183/183 [00:05<00:00, 34.04it/s]\n",
      "validating: 100%|█████████████████████████████████████████████████████████████████████| 22/22 [00:00<00:00, 186.94it/s]\n"
     ]
    },
    {
     "name": "stdout",
     "output_type": "stream",
     "text": [
      "VAL-F1: 0.58619\n"
     ]
    },
    {
     "name": "stderr",
     "output_type": "stream",
     "text": [
      "TRAIN EPOCH: 3 | TRAIN-LOSS: 0.71986 | TRAIN-F1: 0.59896: 100%|██████████████████████| 183/183 [00:05<00:00, 33.97it/s]\n",
      "validating: 100%|█████████████████████████████████████████████████████████████████████| 22/22 [00:00<00:00, 182.30it/s]\n"
     ]
    },
    {
     "name": "stdout",
     "output_type": "stream",
     "text": [
      "VAL-F1: 0.63481\n"
     ]
    },
    {
     "name": "stderr",
     "output_type": "stream",
     "text": [
      "TRAIN EPOCH: 4 | TRAIN-LOSS: 0.67261 | TRAIN-F1: 0.63419: 100%|██████████████████████| 183/183 [00:05<00:00, 34.01it/s]\n",
      "validating: 100%|█████████████████████████████████████████████████████████████████████| 22/22 [00:00<00:00, 186.94it/s]\n"
     ]
    },
    {
     "name": "stdout",
     "output_type": "stream",
     "text": [
      "VAL-F1: 0.63111\n"
     ]
    },
    {
     "name": "stderr",
     "output_type": "stream",
     "text": [
      "TRAIN EPOCH: 5 | TRAIN-LOSS: 0.66050 | TRAIN-F1: 0.63774: 100%|██████████████████████| 183/183 [00:05<00:00, 33.99it/s]\n",
      "validating: 100%|█████████████████████████████████████████████████████████████████████| 22/22 [00:00<00:00, 183.82it/s]\n"
     ]
    },
    {
     "name": "stdout",
     "output_type": "stream",
     "text": [
      "VAL-F1: 0.58463\n"
     ]
    },
    {
     "name": "stderr",
     "output_type": "stream",
     "text": [
      "TRAIN EPOCH: 6 | TRAIN-LOSS: 0.64635 | TRAIN-F1: 0.66498: 100%|██████████████████████| 183/183 [00:05<00:00, 34.37it/s]\n",
      "validating: 100%|█████████████████████████████████████████████████████████████████████| 22/22 [00:00<00:00, 185.37it/s]\n"
     ]
    },
    {
     "name": "stdout",
     "output_type": "stream",
     "text": [
      "VAL-F1: 0.63950\n"
     ]
    },
    {
     "name": "stderr",
     "output_type": "stream",
     "text": [
      "TRAIN EPOCH: 7 | TRAIN-LOSS: 0.62257 | TRAIN-F1: 0.69031: 100%|██████████████████████| 183/183 [00:05<00:00, 34.26it/s]\n",
      "validating: 100%|█████████████████████████████████████████████████████████████████████| 22/22 [00:00<00:00, 185.37it/s]\n"
     ]
    },
    {
     "name": "stdout",
     "output_type": "stream",
     "text": [
      "VAL-F1: 0.62936\n"
     ]
    },
    {
     "name": "stderr",
     "output_type": "stream",
     "text": [
      "TRAIN EPOCH: 8 | TRAIN-LOSS: 0.46867 | TRAIN-F1: 0.72868: 100%|██████████████████████| 183/183 [00:05<00:00, 34.23it/s]\n",
      "validating: 100%|█████████████████████████████████████████████████████████████████████| 22/22 [00:00<00:00, 186.94it/s]\n"
     ]
    },
    {
     "name": "stdout",
     "output_type": "stream",
     "text": [
      "VAL-F1: 0.62086\n"
     ]
    },
    {
     "name": "stderr",
     "output_type": "stream",
     "text": [
      "TRAIN EPOCH: 9 | TRAIN-LOSS: 0.66023 | TRAIN-F1: 0.63699: 100%|██████████████████████| 183/183 [00:05<00:00, 34.21it/s]\n",
      "validating: 100%|█████████████████████████████████████████████████████████████████████| 22/22 [00:00<00:00, 183.82it/s]\n"
     ]
    },
    {
     "name": "stdout",
     "output_type": "stream",
     "text": [
      "VAL-F1: 0.62525\n"
     ]
    },
    {
     "name": "stderr",
     "output_type": "stream",
     "text": [
      "TRAIN EPOCH: 10 | TRAIN-LOSS: 0.50341 | TRAIN-F1: 0.69852: 100%|█████████████████████| 183/183 [00:05<00:00, 34.05it/s]\n",
      "validating: 100%|█████████████████████████████████████████████████████████████████████| 22/22 [00:00<00:00, 188.54it/s]\n"
     ]
    },
    {
     "name": "stdout",
     "output_type": "stream",
     "text": [
      "VAL-F1: 0.64358\n"
     ]
    },
    {
     "name": "stderr",
     "output_type": "stream",
     "text": [
      "TRAIN EPOCH: 11 | TRAIN-LOSS: 0.67365 | TRAIN-F1: 0.67020: 100%|█████████████████████| 183/183 [00:05<00:00, 34.16it/s]\n",
      "validating: 100%|█████████████████████████████████████████████████████████████████████| 22/22 [00:00<00:00, 183.82it/s]\n"
     ]
    },
    {
     "name": "stdout",
     "output_type": "stream",
     "text": [
      "VAL-F1: 0.63291\n"
     ]
    },
    {
     "name": "stderr",
     "output_type": "stream",
     "text": [
      "TRAIN EPOCH: 12 | TRAIN-LOSS: 0.59158 | TRAIN-F1: 0.72711: 100%|█████████████████████| 183/183 [00:05<00:00, 34.27it/s]\n",
      "validating: 100%|█████████████████████████████████████████████████████████████████████| 22/22 [00:00<00:00, 188.54it/s]\n"
     ]
    },
    {
     "name": "stdout",
     "output_type": "stream",
     "text": [
      "VAL-F1: 0.63395\n"
     ]
    },
    {
     "name": "stderr",
     "output_type": "stream",
     "text": [
      "TRAIN EPOCH: 13 | TRAIN-LOSS: 0.58983 | TRAIN-F1: 0.68159: 100%|█████████████████████| 183/183 [00:05<00:00, 34.14it/s]\n",
      "validating: 100%|█████████████████████████████████████████████████████████████████████| 22/22 [00:00<00:00, 188.54it/s]\n"
     ]
    },
    {
     "name": "stdout",
     "output_type": "stream",
     "text": [
      "VAL-F1: 0.62986\n"
     ]
    },
    {
     "name": "stderr",
     "output_type": "stream",
     "text": [
      "TRAIN EPOCH: 14 | TRAIN-LOSS: 0.57192 | TRAIN-F1: 0.73334: 100%|█████████████████████| 183/183 [00:05<00:00, 34.04it/s]\n",
      "validating: 100%|█████████████████████████████████████████████████████████████████████| 22/22 [00:00<00:00, 182.30it/s]\n"
     ]
    },
    {
     "name": "stdout",
     "output_type": "stream",
     "text": [
      "VAL-F1: 0.63749\n"
     ]
    },
    {
     "name": "stderr",
     "output_type": "stream",
     "text": [
      "TRAIN EPOCH: 15 | TRAIN-LOSS: 0.70581 | TRAIN-F1: 0.70042: 100%|█████████████████████| 183/183 [00:05<00:00, 34.16it/s]\n",
      "validating: 100%|█████████████████████████████████████████████████████████████████████| 22/22 [00:00<00:00, 183.82it/s]\n"
     ]
    },
    {
     "name": "stdout",
     "output_type": "stream",
     "text": [
      "VAL-F1: 0.63047\n"
     ]
    },
    {
     "name": "stderr",
     "output_type": "stream",
     "text": [
      "TRAIN EPOCH: 16 | TRAIN-LOSS: 0.53049 | TRAIN-F1: 0.72127: 100%|█████████████████████| 183/183 [00:05<00:00, 34.16it/s]\n",
      "validating: 100%|█████████████████████████████████████████████████████████████████████| 22/22 [00:00<00:00, 183.82it/s]\n"
     ]
    },
    {
     "name": "stdout",
     "output_type": "stream",
     "text": [
      "VAL-F1: 0.63496\n"
     ]
    },
    {
     "name": "stderr",
     "output_type": "stream",
     "text": [
      "TRAIN EPOCH: 17 | TRAIN-LOSS: 0.62134 | TRAIN-F1: 0.68855: 100%|█████████████████████| 183/183 [00:05<00:00, 34.19it/s]\n",
      "validating: 100%|█████████████████████████████████████████████████████████████████████| 22/22 [00:00<00:00, 185.37it/s]\n"
     ]
    },
    {
     "name": "stdout",
     "output_type": "stream",
     "text": [
      "VAL-F1: 0.63140\n"
     ]
    },
    {
     "name": "stderr",
     "output_type": "stream",
     "text": [
      "TRAIN EPOCH: 18 | TRAIN-LOSS: 0.47493 | TRAIN-F1: 0.75412: 100%|█████████████████████| 183/183 [00:05<00:00, 34.12it/s]\n",
      "validating: 100%|█████████████████████████████████████████████████████████████████████| 22/22 [00:00<00:00, 185.37it/s]\n"
     ]
    },
    {
     "name": "stdout",
     "output_type": "stream",
     "text": [
      "VAL-F1: 0.63144\n"
     ]
    },
    {
     "name": "stderr",
     "output_type": "stream",
     "text": [
      "TRAIN EPOCH: 19 | TRAIN-LOSS: 0.57659 | TRAIN-F1: 0.75379: 100%|█████████████████████| 183/183 [00:05<00:00, 34.20it/s]\n",
      "validating: 100%|█████████████████████████████████████████████████████████████████████| 22/22 [00:00<00:00, 183.82it/s]\n"
     ]
    },
    {
     "name": "stdout",
     "output_type": "stream",
     "text": [
      "VAL-F1: 0.63277\n"
     ]
    },
    {
     "name": "stderr",
     "output_type": "stream",
     "text": [
      "TRAIN EPOCH: 20 | TRAIN-LOSS: 0.62335 | TRAIN-F1: 0.72796: 100%|█████████████████████| 183/183 [00:05<00:00, 34.12it/s]\n",
      "validating: 100%|█████████████████████████████████████████████████████████████████████| 22/22 [00:00<00:00, 182.30it/s]\n"
     ]
    },
    {
     "name": "stdout",
     "output_type": "stream",
     "text": [
      "VAL-F1: 0.63266\n"
     ]
    },
    {
     "data": {
      "image/png": "[encoded data removed]",
      "text/plain": [
       "<Figure size 1440x1440 with 2 Axes>"
      ]
     },
     "metadata": {
      "needs_background": "light"
     },
     "output_type": "display_data"
    }
   ],
   "source": [
    "trainer.train(model=model, train_set=train_set, dev_set=dev_set, device=device, epochs=epochs, batch_size=batch_size, \n",
    "              data_name=data_name, model_name=model_name + '_' + str(seed))"
   ]
  },
  {
   "cell_type": "markdown",
   "metadata": {},
   "source": [
    "### Test"
   ]
  },
  {
   "cell_type": "code",
   "execution_count": 7,
   "metadata": {
    "scrolled": true
   },
   "outputs": [
    {
     "data": {
      "text/plain": [
       "TextCNN(\n",
       "  (E): Embedding(14356, 200)\n",
       "  (convs): Conv1d(\n",
       "    (convs): ModuleList(\n",
       "      (0): Conv1d(200, 200, kernel_size=(1,), stride=(1,))\n",
       "      (1): Conv1d(200, 200, kernel_size=(2,), stride=(1,))\n",
       "      (2): Conv1d(200, 200, kernel_size=(3,), stride=(1,))\n",
       "      (3): Conv1d(200, 200, kernel_size=(4,), stride=(1,))\n",
       "      (4): Conv1d(200, 200, kernel_size=(5,), stride=(1,))\n",
       "    )\n",
       "  )\n",
       "  (dropout): Dropout(p=0.5, inplace=False)\n",
       "  (fc): Linear(in_features=1000, out_features=3, bias=True)\n",
       ")"
      ]
     },
     "execution_count": 7,
     "metadata": {},
     "output_type": "execute_result"
    }
   ],
   "source": [
    "if model_name == 'TextRCNN':\n",
    "    model = TextRCNN(w2v_model.E).to(device)\n",
    "elif model_name == 'BiLSTM_Att':\n",
    "    model = LSTMATT(w2v_model.E).to(device)\n",
    "elif model_name == 'TextCNN':\n",
    "    model = TextCNN(w2v_model.E).to(device)\n",
    "elif model_name == 'BiLSTM':\n",
    "    model = BiLSTM(w2v_model.E).to(device)\n",
    "\n",
    "model.load_state_dict(torch.load(\"./model_params/\" + data_name + \"_\" + model_name + \"_\" + str(seed) + \"_10.model\", map_location=device))\n",
    "model.eval()"
   ]
  },
  {
   "cell_type": "code",
   "execution_count": 8,
   "metadata": {
    "ExecuteTime": {
     "end_time": "2022-05-01T11:48:27.797924Z",
     "start_time": "2022-05-01T11:48:27.004573Z"
    },
    "scrolled": true
   },
   "outputs": [
    {
     "name": "stderr",
     "output_type": "stream",
     "text": [
      "testing: 100%|████████████████████████████████████████████████████████████████████████| 22/22 [00:00<00:00, 183.82it/s]"
     ]
    },
    {
     "name": "stdout",
     "output_type": "stream",
     "text": [
      "Precision: 0.6378241294224901\n",
      "Recall: 0.6312401710401476\n",
      "F1-score: 0.6243662669997202\n",
      "Accuracy: 0.6924715909090909\n"
     ]
    },
    {
     "name": "stderr",
     "output_type": "stream",
     "text": [
      "\n"
     ]
    }
   ],
   "source": [
    "trainer.test(model, test_set, batch_size=batch_size, device=device)"
   ]
  },
  {
   "cell_type": "code",
   "execution_count": null,
   "metadata": {},
   "outputs": [],
   "source": []
  },
  {
   "cell_type": "code",
   "execution_count": null,
   "metadata": {},
   "outputs": [],
   "source": []
  }
 ],
 "metadata": {
  "kernelspec": {
   "display_name": "Python 3",
   "language": "python",
   "name": "python3"
  },
  "language_info": {
   "codemirror_mode": {
    "name": "ipython",
    "version": 3
   },
   "file_extension": ".py",
   "mimetype": "text/x-python",
   "name": "python",
   "nbconvert_exporter": "python",
   "pygments_lexer": "ipython3",
   "version": "3.6.8"
  }
 },
 "nbformat": 4,
 "nbformat_minor": 4
}
